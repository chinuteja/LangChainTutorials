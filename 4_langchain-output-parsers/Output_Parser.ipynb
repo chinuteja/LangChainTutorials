{
 "cells": [
  {
   "cell_type": "markdown",
   "id": "fca7852e",
   "metadata": {},
   "source": [
    "## Importing Modules"
   ]
  },
  {
   "cell_type": "code",
   "execution_count": 22,
   "id": "aee29074",
   "metadata": {},
   "outputs": [
    {
     "data": {
      "text/plain": [
       "True"
      ]
     },
     "execution_count": 22,
     "metadata": {},
     "output_type": "execute_result"
    }
   ],
   "source": [
    "from langchain_openai import ChatOpenAI\n",
    "from langchain_core.messages import SystemMessage, HumanMessage, AIMessage\n",
    "from dotenv import load_dotenv\n",
    "from langchain_groq import ChatGroq\n",
    "from langchain_core.output_parsers import StrOutputParser,JsonOutputParser\n",
    "from langchain.output_parsers import StructuredOutputParser, ResponseSchema,PydanticOutputParser\n",
    "from groq import Groq\n",
    "from langchain_core.prompts import PromptTemplate\n",
    "\n",
    "\n",
    "import os\n",
    "from typing import TypedDict,Annotated,Optional,Literal\n",
    "from pydantic import BaseModel, EmailStr, Field\n",
    "\n",
    "import warnings\n",
    "warnings.filterwarnings(\"ignore\")\n",
    "\n",
    "load_dotenv()"
   ]
  },
  {
   "cell_type": "code",
   "execution_count": null,
   "id": "a4af69fa",
   "metadata": {},
   "outputs": [],
   "source": []
  },
  {
   "cell_type": "code",
   "execution_count": 2,
   "id": "debcafe4",
   "metadata": {},
   "outputs": [],
   "source": [
    "model = ChatGroq(\n",
    "        groq_api_key=os.getenv(\"GROQ_API_KEY\"),\n",
    "        model_name=\"Gemma2-9b-It\",\n",
    "        temperature=0.5 ## this is creative parameter\n",
    "    )"
   ]
  },
  {
   "cell_type": "markdown",
   "id": "7ff426f2",
   "metadata": {},
   "source": [
    "## Normal way"
   ]
  },
  {
   "cell_type": "code",
   "execution_count": 7,
   "id": "7453673e",
   "metadata": {},
   "outputs": [],
   "source": [
    "## 1st prompt detailed report\n",
    "## 2nd prompt summary\n",
    "template_1 = PromptTemplate(\n",
    "\n",
    "    template = \"Write a detailed report on {topic}\",\n",
    "    input_variables = [\"topic\"]\n",
    "\n",
    ")\n",
    "\n",
    "template_2 = PromptTemplate(\n",
    "\n",
    "    template = \"Write 2 line summary on the following text ./n {text}\",\n",
    "    input_variables = [\"text\"]\n",
    "\n",
    ")"
   ]
  },
  {
   "cell_type": "code",
   "execution_count": 8,
   "id": "157babef",
   "metadata": {},
   "outputs": [
    {
     "name": "stdout",
     "output_type": "stream",
     "text": [
      "Black holes are regions of immense gravity from which nothing, not even light, can escape.  They form from the collapse of massive stars and have a profound impact on the structure and evolution of galaxies.  \n",
      "\n"
     ]
    }
   ],
   "source": [
    "prompt1 = template_1.invoke({\"topic\":\"blackhole\"})\n",
    "result = model.invoke(prompt1)\n",
    "\n",
    "prompt2 = template_2.invoke({\"text\":result.content})\n",
    "result_2 = model.invoke(prompt2)\n",
    "print(result_2.content)\n"
   ]
  },
  {
   "cell_type": "markdown",
   "id": "6d41a2d9",
   "metadata": {},
   "source": [
    "## String Output Parser"
   ]
  },
  {
   "cell_type": "code",
   "execution_count": 11,
   "id": "02e8b466",
   "metadata": {},
   "outputs": [
    {
     "name": "stdout",
     "output_type": "stream",
     "text": [
      "Black holes are incredibly dense objects with such strong gravity that nothing, not even light, can escape.  They form from the collapse of massive stars and have a profound impact on the evolution of galaxies and the universe itself. \n",
      "\n",
      "\n",
      "\n"
     ]
    }
   ],
   "source": [
    "parser = StrOutputParser()\n",
    "chain = template_1 | model | parser | template_2 | model | parser\n",
    "\n",
    "result = chain.invoke({\"topic\":\"blackhole\"})\n",
    "print(result)"
   ]
  },
  {
   "cell_type": "markdown",
   "id": "f2ddd808",
   "metadata": {},
   "source": [
    "## Json Output Parser"
   ]
  },
  {
   "cell_type": "code",
   "execution_count": null,
   "id": "267268a7",
   "metadata": {},
   "outputs": [
    {
     "name": "stdout",
     "output_type": "stream",
     "text": [
      "{'facts': ['Black holes are regions in spacetime where gravity is so strong that nothing, not even light, can escape.', 'They are formed when massive stars collapse at the end of their life cycle.', 'Black holes are characterized by their event horizon, a boundary beyond which escape is impossible.', 'While we cannot see black holes directly, we can detect them through their gravitational effects on nearby objects.', 'There are different types of black holes, including stellar-mass black holes, supermassive black holes, and intermediate-mass black holes.']}\n"
     ]
    }
   ],
   "source": [
    "parser = JsonOutputParser()\n",
    "\n",
    "template = PromptTemplate(\n",
    "    template='Give me 5 facts about {topic} \\n {format_instruction}',\n",
    "    input_variables=['topic'],\n",
    "    partial_variables={'format_instruction': parser.get_format_instructions()}\n",
    ")\n",
    "\n",
    "chain = template | model | parser\n",
    "\n",
    "result = chain.invoke({'topic':'black hole'})\n",
    "\n",
    "print(result) ## we cannot get the output in desired format its a biggest flaw it doesnt enforce schema\n"
   ]
  },
  {
   "cell_type": "markdown",
   "id": "e4d6f40a",
   "metadata": {},
   "source": [
    "## Structured Output Parser"
   ]
  },
  {
   "cell_type": "code",
   "execution_count": 17,
   "id": "0602957e",
   "metadata": {},
   "outputs": [],
   "source": [
    "## we are creating a Schema Object\n",
    "schema = [\n",
    "    ResponseSchema(name='fact_1', description='Fact 1 about the topic'),\n",
    "    ResponseSchema(name='fact_2', description='Fact 2 about the topic'),\n",
    "    ResponseSchema(name='fact_3', description='Fact 3 about the topic'),\n",
    "]\n",
    "\n",
    "parser = StructuredOutputParser.from_response_schemas(schema) ## we are passing the schema to parser\n"
   ]
  },
  {
   "cell_type": "code",
   "execution_count": null,
   "id": "a0775415",
   "metadata": {},
   "outputs": [
    {
     "name": "stdout",
     "output_type": "stream",
     "text": [
      "{'fact_1': 'Black holes are regions in spacetime where gravity is so strong that nothing, not even light, can escape.', 'fact_2': 'Black holes form when massive stars collapse at the end of their life cycle.', 'fact_3': 'Although black holes are invisible, their presence can be detected by observing the effects they have on nearby matter and light.'}\n"
     ]
    }
   ],
   "source": [
    "template = PromptTemplate(\n",
    "    template='Give 3 fact about {topic} \\n {format_instruction}',\n",
    "    input_variables=['topic'],\n",
    "    partial_variables={'format_instruction':parser.get_format_instructions()}\n",
    ")\n",
    "\n",
    "chain = template | model | parser\n",
    "\n",
    "result = chain.invoke({'topic':'black hole'})\n",
    "\n",
    "print(result) ## u can see the keys are fact_1,fact_2 and fact_3 but cant do data validation"
   ]
  },
  {
   "cell_type": "markdown",
   "id": "5535da1d",
   "metadata": {},
   "source": [
    "## Pydantic Parser"
   ]
  },
  {
   "cell_type": "code",
   "execution_count": 20,
   "id": "f0255aee",
   "metadata": {},
   "outputs": [],
   "source": [
    "from operator import gt\n",
    "\n",
    "\n",
    "class Person(BaseModel):\n",
    "    name:str = Field(description=\"name of the person\"),\n",
    "    age : int = Field(gt=18,description=\"Age of the person\",default=18),\n",
    "    city : str = Field(description=\"Name of the city the person belongs to \")\n",
    "\n",
    "parser = PydanticOutputParser(pydantic_object = Person) ## pass the schema here\n",
    "\n",
    "\n"
   ]
  },
  {
   "cell_type": "code",
   "execution_count": 24,
   "id": "eaf22a0a",
   "metadata": {},
   "outputs": [
    {
     "name": "stdout",
     "output_type": "stream",
     "text": [
      "name='Anika Sharma' age=28 city='Mumbai'\n",
      "--------------------------\n",
      "name='Kim Mi-sun' age=28 city='Pyongyang'\n"
     ]
    }
   ],
   "source": [
    "template = PromptTemplate(\n",
    "    template='Generate the name, age and city of a fictional {place} person \\n {format_instruction}',\n",
    "    input_variables=['place'],\n",
    "    partial_variables={'format_instruction':parser.get_format_instructions()}\n",
    ")\n",
    "\n",
    "chain = template | model | parser\n",
    "\n",
    "final_result = chain.invoke({'place':'India'})\n",
    "\n",
    "print(final_result)\n",
    "\n",
    "print(\"--------------------------\")\n",
    "final_result = chain.invoke({'place':'North Korea'})\n",
    "\n",
    "print(final_result)"
   ]
  }
 ],
 "metadata": {
  "kernelspec": {
   "display_name": "Python 3",
   "language": "python",
   "name": "python3"
  },
  "language_info": {
   "codemirror_mode": {
    "name": "ipython",
    "version": 3
   },
   "file_extension": ".py",
   "mimetype": "text/x-python",
   "name": "python",
   "nbconvert_exporter": "python",
   "pygments_lexer": "ipython3",
   "version": "3.10.0"
  }
 },
 "nbformat": 4,
 "nbformat_minor": 5
}
