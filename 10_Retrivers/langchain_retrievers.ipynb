{
  "cells": [
    {
      "cell_type": "code",
      "execution_count": 1,
      "metadata": {
        "id": "rJu8oFs86FjF"
      },
      "outputs": [
        {
          "data": {
            "text/plain": [
              "True"
            ]
          },
          "execution_count": 1,
          "metadata": {},
          "output_type": "execute_result"
        }
      ],
      "source": [
        "import os\n",
        "from dotenv import load_dotenv\n",
        "from langchain_openai import OpenAIEmbeddings\n",
        "from langchain.vectorstores import Chroma\n",
        "from langchain.schema import Document\n",
        "\n",
        "from langchain.embeddings import HuggingFaceEmbeddings\n",
        "import warnings\n",
        "warnings.filterwarnings(\"ignore\")\n",
        "from sklearn.metrics.pairwise import cosine_similarity\n",
        "\n",
        "load_dotenv()"
      ]
    },
    {
      "cell_type": "markdown",
      "metadata": {
        "id": "b1Fe61XA69FR"
      },
      "source": [
        "## Wikipedia Retriever"
      ]
    },
    {
      "cell_type": "code",
      "execution_count": 3,
      "metadata": {
        "id": "tVlVrUuQ6cCC"
      },
      "outputs": [],
      "source": [
        "from langchain_community.retrievers import WikipediaRetriever"
      ]
    },
    {
      "cell_type": "code",
      "execution_count": 4,
      "metadata": {
        "id": "q5FUCNmX7ICr"
      },
      "outputs": [],
      "source": [
        "# Initialize the retriever (optional: set language and top_k)\n",
        "retriever = WikipediaRetriever(top_k_results=2, lang=\"en\")"
      ]
    },
    {
      "cell_type": "code",
      "execution_count": 8,
      "metadata": {
        "id": "i-8sH-w67K8J"
      },
      "outputs": [],
      "source": [
        "\n",
        "# Define your query\n",
        "query = \"Who is the best batsman in the world?\"\n",
        "\n",
        "# Get relevant Wikipedia documents\n",
        "docs = retriever.invoke(query)"
      ]
    },
    {
      "cell_type": "code",
      "execution_count": 9,
      "metadata": {
        "colab": {
          "base_uri": "https://localhost:8080/"
        },
        "id": "6mD3zUptQSQg",
        "outputId": "e4963f93-dce0-4d6e-c955-4499196aa0f5"
      },
      "outputs": [
        {
          "data": {
            "text/plain": [
              "[Document(metadata={'title': 'Batting order (cricket)', 'summary': \"In cricket, the batting order is the sequence in which batters play through their team's innings, there always being two batters taking part at any one time. All eleven players in a team are required to bat if the innings is completed (i.e., if the innings does not close early due to a declaration or other factor).\\nThe batting order is colloquially subdivided into:\\n\\nOpeners (batters one and two)\\nTop order (batters one to three)\\nMiddle order (batters four to seven)\\nLower order or Tailenders (batters eight to eleven)\\nThe order in which the eleven players will bat is usually established before the start of a cricket match, but may be altered during play. The decision is based on factors such as each player's specialities; the position each batter is most comfortable with; each player's skills and attributes as a batter; possible combinations with other batters; and the match situation whereby, for example, the team may require a more defensive or attacking player at that point in the innings. Also, a middle order batter in Tests may open for ODIs and Twenty20 due to their aggressive  approach to the game.\", 'source': 'https://en.wikipedia.org/wiki/Batting_order_(cricket)'}, page_content=\"In cricket, the batting order is the sequence in which batters play through their team's innings, there always being two batters taking part at any one time. All eleven players in a team are required to bat if the innings is completed (i.e., if the innings does not close early due to a declaration or other factor).\\nThe batting order is colloquially subdivided into:\\n\\nOpeners (batters one and two)\\nTop order (batters one to three)\\nMiddle order (batters four to seven)\\nLower order or Tailenders (batters eight to eleven)\\nThe order in which the eleven players will bat is usually established before the start of a cricket match, but may be altered during play. The decision is based on factors such as each player's specialities; the position each batter is most comfortable with; each player's skills and attributes as a batter; possible combinations with other batters; and the match situation whereby, for example, the team may require a more defensive or attacking player at that point in the innings. Also, a middle order batter in Tests may open for ODIs and Twenty20 due to their aggressive  approach to the game.\\n\\n\\n== Changing the batting order ==\\nThe captain of the team can change the batting order during the game at their discretion.  They can even change the batting line-up from one game to another in a tournament or series. There are no rules about the nature or number of changes made and, if more than one innings is played, the order used in each need not be the same. It has even been known for a captain to completely reverse his batting order for the second innings after following on. This has made it possible for a bowler to take a hat-trick across three consecutive overs of a match, including the same batter twice.\\nThere are various reasons why the captain might make a change from the established order. Usually, however, captains and coaches prefer not to adjust the batting order unless necessary, as for example when South Africa moved Imran Tahir up the order against India because the South African top seven batters were poor against spin bowlers. In 2017, Faf du Plessis, who returned to the side as Test Captain after paternity leave, decided to make many changes to the batting lineup before the second test against England after being handed a heavy defeat. Du Plessis replaced JP Duminy at no. 5, and moved Quinton de Kock from 5 to 4 (de Kock already moved from no. 7 to 5 between the 1st and 2nd innings of the first Test), and due to the suspension of Kagiso Rabada due to demerit points, so Duanne Olivier replaced him, Philander moved up a spot to no. 7, while Theunis de Bruyn was replaced by Chris Morris at no. 8.\\nThe Indian cricket team also shuffled their batting order in the first ODI of the India tour of West Indies and United States, 2023.\\nIn the days before covered pitches, a particularly bad sticky wicket might see each team reverse the batting order to trade the wickets of their inferior batters for the time it could take for the unpredictability of the pitch to die down. Don Bradman has the highest test score as a #7 batsman after such an reversal of the order.\\n\\n\\n=== Pinch hitter ===\\n\\nIf the state of the game requires runs to be scored quickly, a captain will often promote a batter who is known to score quickly up the order. This is usually a lower-order batter, as their wicket is not regarded as being so valuable. A batter who is promoted up the order with the intention of scoring quick runs is called a pinch hitter or slogger. Some examples of pinch hitters include David Miller, Mitchell Starc, Shahid Afridi and Thisara Perera. In the West Indies' 2020 tour of England, during the second Test, England captain Joe Root sent Jos Buttler and Ben Stokes, two middle order batters known for quick scoring, up to open; the reason being England needed to score quickly in order to force a result despite rain. Stokes finished on 78* as England declared, while Buttler fell in the first over, having failed to score.\\n\\n\\n=== Nightwat\"),\n",
              " Document(metadata={'title': 'Viv Richards', 'summary': \"Sir Isaac Vivian Alexander Richards  (born 7 March 1952) is a retired Antiguan cricketer who represented the West Indies cricket team between 1974 and 1991. Usually batting at number three in a dominant West Indies side, Richards is widely regarded as one of the greatest batsmen of all time. Richards was part of the squads that won the 1975 Cricket World Cup and 1979 Cricket World Cup and finished as runners-up in the 1983 Cricket World Cup.\\nRichards made his Test debut in 1974 against India along with Gordon Greenidge. His best years were between 1976 and 1983, during which time he averaged a remarkable 66.51 with the bat in Test cricket. In 1984 he suffered from pterygium and had eye surgery which affected his eyesight and reflexes. Despite this, he remained one of the best batsmen in the world for the remaining four years of his career, though his average in the second half of his career was significantly lower than for the first. Richards scored 8,540 runs in 121 Test matches at an average of 50.23 and retired as the West Indies leading run-scorer, overhauling the aggregate of Garfield Sobers. He also scored 1,281 runs at an average of over 55 in World Series Cricket, which is sometimes regarded as the highest and most difficult level of cricket ever played. As a captain, he won 27 of 50 Test matches and lost only 8. He also scored nearly 7,000 runs in One Day Internationals and more than 36,000 in first-class cricket.\\nHe was knighted for his contributions to cricket in 1999. In 2000 he was voted one of Wisden's five Cricketers of the Century by a 100-member panel of experts, and in 2002 the almanack judged that he had played the best One Day International innings of all time. In December 2002, he was chosen by Wisden as the greatest One Day International batsman who had played to that date and as the third-greatest Test cricket batter. In 2009, Richards was inducted into the ICC Cricket Hall of Fame.\\nIn October 2013, Wisden selected the best test team in 150 years of test history and included Richards at No. 5. He is one of only two batsman of the post-war era (the other being Sachin Tendulkar) to feature in that team.\", 'source': 'https://en.wikipedia.org/wiki/Viv_Richards'}, page_content='Sir Isaac Vivian Alexander Richards  (born 7 March 1952) is a retired Antiguan cricketer who represented the West Indies cricket team between 1974 and 1991. Usually batting at number three in a dominant West Indies side, Richards is widely regarded as one of the greatest batsmen of all time. Richards was part of the squads that won the 1975 Cricket World Cup and 1979 Cricket World Cup and finished as runners-up in the 1983 Cricket World Cup.\\nRichards made his Test debut in 1974 against India along with Gordon Greenidge. His best years were between 1976 and 1983, during which time he averaged a remarkable 66.51 with the bat in Test cricket. In 1984 he suffered from pterygium and had eye surgery which affected his eyesight and reflexes. Despite this, he remained one of the best batsmen in the world for the remaining four years of his career, though his average in the second half of his career was significantly lower than for the first. Richards scored 8,540 runs in 121 Test matches at an average of 50.23 and retired as the West Indies leading run-scorer, overhauling the aggregate of Garfield Sobers. He also scored 1,281 runs at an average of over 55 in World Series Cricket, which is sometimes regarded as the highest and most difficult level of cricket ever played. As a captain, he won 27 of 50 Test matches and lost only 8. He also scored nearly 7,000 runs in One Day Internationals and more than 36,000 in first-class cricket.\\nHe was knighted for his contributions to cricket in 1999. In 2000 he was voted one of Wisden\\'s five Cricketers of the Century by a 100-member panel of experts, and in 2002 the almanack judged that he had played the best One Day International innings of all time. In December 2002, he was chosen by Wisden as the greatest One Day International batsman who had played to that date and as the third-greatest Test cricket batter. In 2009, Richards was inducted into the ICC Cricket Hall of Fame.\\nIn October 2013, Wisden selected the best test team in 150 years of test history and included Richards at No. 5. He is one of only two batsman of the post-war era (the other being Sachin Tendulkar) to feature in that team.\\n\\n\\n== Early life ==\\nRichards was born to Malcolm and Gretel Richards in St. John\\'s, Antigua, then part of the British Leeward Islands. He attended St. John\\'s Boys Primary School and then Antigua Grammar Secondary School on a scholarship.\\nRichards discovered cricket at a young age. His brothers, Mervyn and Donald, both played the game, representing Antigua as amateurs, and they encouraged him to play. The young Richards initially practiced with his father and Pat Evanson, a neighbor and family friend, who had captained the Antigua side.\\nRichards left school aged 18, and worked at D\\'Arcy\\'s Bar and Restaurant in St. John\\'s. He joined St. John\\'s Cricket Club and the owner of the restaurant where he worked, D\\'Arcy Williams, provided him with new whites, gloves, pads and a bat. After a few seasons with St. John\\'s C.C., he joined Rising Sun Cricket Club, where he remained until his departure to play abroad.\\nRichards was suspended from playing cricket for two years when he was a 17-year-old in 1969. Playing for Antigua against St Kitts, he got out for a golden duck much to the disgust of himself and the 6,000 supporters. Some supporters occupied the pitch, and the game was held up for two hours. Richards was then given a second opportunity to bat in an effort to appease the supporters, who were almost rioting. In his second bat in the innings, he was again out for a duck. Richards said of the incident:\\n\"I behaved very badly and I am not proud of it. But those in authority, who were advising me, didn\\'t do themselves very proud either. I was told to restore peace I should go back out to bat. I did not want to and was not very happy about it. Had I been a more experienced player then I think I would have refused. But go back I did. I was made to look a fool for the convenience of the local cricket authorities.\"\\n\\n\\n== Cr')]"
            ]
          },
          "execution_count": 9,
          "metadata": {},
          "output_type": "execute_result"
        }
      ],
      "source": [
        "docs"
      ]
    },
    {
      "cell_type": "code",
      "execution_count": 10,
      "metadata": {
        "colab": {
          "base_uri": "https://localhost:8080/"
        },
        "id": "UH3lPwDi7Myp",
        "outputId": "156011e5-ff17-4cfc-ec82-b7621f814f6f"
      },
      "outputs": [
        {
          "name": "stdout",
          "output_type": "stream",
          "text": [
            "\n",
            "--- Result 1 ---\n",
            "Content:\n",
            "In cricket, the batting order is the sequence in which batters play through their team's innings, there always being two batters taking part at any one time. All eleven players in a team are required to bat if the innings is completed (i.e., if the innings does not close early due to a declaration or other factor).\n",
            "The batting order is colloquially subdivided into:\n",
            "\n",
            "Openers (batters one and two)\n",
            "Top order (batters one to three)\n",
            "Middle order (batters four to seven)\n",
            "Lower order or Tailenders (batters eight to eleven)\n",
            "The order in which the eleven players will bat is usually established before the start of a cricket match, but may be altered during play. The decision is based on factors such as each player's specialities; the position each batter is most comfortable with; each player's skills and attributes as a batter; possible combinations with other batters; and the match situation whereby, for example, the team may require a more defensive or attacking player at that point in the innings. Also, a middle order batter in Tests may open for ODIs and Twenty20 due to their aggressive  approach to the game.\n",
            "\n",
            "\n",
            "== Changing the batting order ==\n",
            "The captain of the team can change the batting order during the game at their discretion.  They can even change the batting line-up from one game to another in a tournament or series. There are no rules about the nature or number of changes made and, if more than one innings is played, the order used in each need not be the same. It has even been known for a captain to completely reverse his batting order for the second innings after following on. This has made it possible for a bowler to take a hat-trick across three consecutive overs of a match, including the same batter twice.\n",
            "There are various reasons why the captain might make a change from the established order. Usually, however, captains and coaches prefer not to adjust the batting order unless necessary, as for example when South Africa moved Imran Tahir up the order against India because the South African top seven batters were poor against spin bowlers. In 2017, Faf du Plessis, who returned to the side as Test Captain after paternity leave, decided to make many changes to the batting lineup before the second test against England after being handed a heavy defeat. Du Plessis replaced JP Duminy at no. 5, and moved Quinton de Kock from 5 to 4 (de Kock already moved from no. 7 to 5 between the 1st and 2nd innings of the first Test), and due to the suspension of Kagiso Rabada due to demerit points, so Duanne Olivier replaced him, Philander moved up a spot to no. 7, while Theunis de Bruyn was replaced by Chris Morris at no. 8.\n",
            "The Indian cricket team also shuffled their batting order in the first ODI of the India tour of West Indies and United States, 2023.\n",
            "In the days before covered pitches, a particularly bad sticky wicket might see each team reverse the batting order to trade the wickets of their inferior batters for the time it could take for the unpredictability of the pitch to die down. Don Bradman has the highest test score as a #7 batsman after such an reversal of the order.\n",
            "\n",
            "\n",
            "=== Pinch hitter ===\n",
            "\n",
            "If the state of the game requires runs to be scored quickly, a captain will often promote a batter who is known to score quickly up the order. This is usually a lower-order batter, as their wicket is not regarded as being so valuable. A batter who is promoted up the order with the intention of scoring quick runs is called a pinch hitter or slogger. Some examples of pinch hitters include David Miller, Mitchell Starc, Shahid Afridi and Thisara Perera. In the West Indies' 2020 tour of England, during the second Test, England captain Joe Root sent Jos Buttler and Ben Stokes, two middle order batters known for quick scoring, up to open; the reason being England needed to score quickly in order to force a result despite rain. Stokes finished on 78* as England declared, while Buttler fell in the first over, having failed to score.\n",
            "\n",
            "\n",
            "=== Nightwat...\n",
            "\n",
            "--- Result 2 ---\n",
            "Content:\n",
            "Sir Isaac Vivian Alexander Richards  (born 7 March 1952) is a retired Antiguan cricketer who represented the West Indies cricket team between 1974 and 1991. Usually batting at number three in a dominant West Indies side, Richards is widely regarded as one of the greatest batsmen of all time. Richards was part of the squads that won the 1975 Cricket World Cup and 1979 Cricket World Cup and finished as runners-up in the 1983 Cricket World Cup.\n",
            "Richards made his Test debut in 1974 against India along with Gordon Greenidge. His best years were between 1976 and 1983, during which time he averaged a remarkable 66.51 with the bat in Test cricket. In 1984 he suffered from pterygium and had eye surgery which affected his eyesight and reflexes. Despite this, he remained one of the best batsmen in the world for the remaining four years of his career, though his average in the second half of his career was significantly lower than for the first. Richards scored 8,540 runs in 121 Test matches at an average of 50.23 and retired as the West Indies leading run-scorer, overhauling the aggregate of Garfield Sobers. He also scored 1,281 runs at an average of over 55 in World Series Cricket, which is sometimes regarded as the highest and most difficult level of cricket ever played. As a captain, he won 27 of 50 Test matches and lost only 8. He also scored nearly 7,000 runs in One Day Internationals and more than 36,000 in first-class cricket.\n",
            "He was knighted for his contributions to cricket in 1999. In 2000 he was voted one of Wisden's five Cricketers of the Century by a 100-member panel of experts, and in 2002 the almanack judged that he had played the best One Day International innings of all time. In December 2002, he was chosen by Wisden as the greatest One Day International batsman who had played to that date and as the third-greatest Test cricket batter. In 2009, Richards was inducted into the ICC Cricket Hall of Fame.\n",
            "In October 2013, Wisden selected the best test team in 150 years of test history and included Richards at No. 5. He is one of only two batsman of the post-war era (the other being Sachin Tendulkar) to feature in that team.\n",
            "\n",
            "\n",
            "== Early life ==\n",
            "Richards was born to Malcolm and Gretel Richards in St. John's, Antigua, then part of the British Leeward Islands. He attended St. John's Boys Primary School and then Antigua Grammar Secondary School on a scholarship.\n",
            "Richards discovered cricket at a young age. His brothers, Mervyn and Donald, both played the game, representing Antigua as amateurs, and they encouraged him to play. The young Richards initially practiced with his father and Pat Evanson, a neighbor and family friend, who had captained the Antigua side.\n",
            "Richards left school aged 18, and worked at D'Arcy's Bar and Restaurant in St. John's. He joined St. John's Cricket Club and the owner of the restaurant where he worked, D'Arcy Williams, provided him with new whites, gloves, pads and a bat. After a few seasons with St. John's C.C., he joined Rising Sun Cricket Club, where he remained until his departure to play abroad.\n",
            "Richards was suspended from playing cricket for two years when he was a 17-year-old in 1969. Playing for Antigua against St Kitts, he got out for a golden duck much to the disgust of himself and the 6,000 supporters. Some supporters occupied the pitch, and the game was held up for two hours. Richards was then given a second opportunity to bat in an effort to appease the supporters, who were almost rioting. In his second bat in the innings, he was again out for a duck. Richards said of the incident:\n",
            "\"I behaved very badly and I am not proud of it. But those in authority, who were advising me, didn't do themselves very proud either. I was told to restore peace I should go back out to bat. I did not want to and was not very happy about it. Had I been a more experienced player then I think I would have refused. But go back I did. I was made to look a fool for the convenience of the local cricket authorities.\"\n",
            "\n",
            "\n",
            "== Cr...\n"
          ]
        }
      ],
      "source": [
        "# Print retrieved content\n",
        "for i, doc in enumerate(docs):\n",
        "    print(f\"\\n--- Result {i+1} ---\")\n",
        "    print(f\"Content:\\n{doc.page_content}...\")  # truncate for display"
      ]
    },
    {
      "cell_type": "markdown",
      "metadata": {
        "id": "Z2qt9J157djt"
      },
      "source": [
        "## Vector Store Retriever"
      ]
    },
    {
      "cell_type": "code",
      "execution_count": 11,
      "metadata": {
        "id": "sUKzoti97OKc"
      },
      "outputs": [],
      "source": [
        "from langchain_community.vectorstores import Chroma\n",
        "from langchain_openai import OpenAIEmbeddings\n",
        "from langchain.embeddings import HuggingFaceEmbeddings\n",
        "\n",
        "from langchain_core.documents import Document"
      ]
    },
    {
      "cell_type": "code",
      "execution_count": 12,
      "metadata": {
        "id": "dLymTTcA7nbZ"
      },
      "outputs": [],
      "source": [
        "# Step 1: Your source documents\n",
        "documents = [\n",
        "    Document(page_content=\"LangChain helps developers build LLM applications easily.\"),\n",
        "    Document(page_content=\"Chroma is a vector database optimized for LLM-based search.\"),\n",
        "    Document(page_content=\"Embeddings convert text into high-dimensional vectors.\"),\n",
        "    Document(page_content=\"OpenAI provides powerful embedding models.\"),\n",
        "]"
      ]
    },
    {
      "cell_type": "code",
      "execution_count": 13,
      "metadata": {
        "id": "B5J0HYsr7prG"
      },
      "outputs": [],
      "source": [
        "# Step 2: Initialize embedding model\n",
        "# embedding_model = OpenAIEmbeddings()\n",
        "embedding_model = HuggingFaceEmbeddings(model_name=\"all-MiniLM-L6-v2\")\n",
        "\n",
        "# Step 3: Create Chroma vector store in memory\n",
        "vectorstore = Chroma.from_documents(\n",
        "    documents=documents,\n",
        "    embedding=embedding_model,\n",
        "    collection_name=\"my_collection\"\n",
        ")"
      ]
    },
    {
      "cell_type": "code",
      "execution_count": 14,
      "metadata": {
        "id": "xvSgoUYs7sLu"
      },
      "outputs": [],
      "source": [
        "# Step 4: Convert vectorstore into a retriever\n",
        "retriever = vectorstore.as_retriever(search_kwargs={\"k\": 2})"
      ]
    },
    {
      "cell_type": "code",
      "execution_count": null,
      "metadata": {
        "id": "I5l0rXl67v4N"
      },
      "outputs": [],
      "source": [
        "query = \"What is Chroma used for?\"\n",
        "results = retriever.invoke(query) "
      ]
    },
    {
      "cell_type": "code",
      "execution_count": 16,
      "metadata": {
        "colab": {
          "base_uri": "https://localhost:8080/"
        },
        "id": "OMAEeCxK7yRR",
        "outputId": "7f140c90-bf2d-4d54-8988-813b74ed281b"
      },
      "outputs": [
        {
          "name": "stdout",
          "output_type": "stream",
          "text": [
            "\n",
            "--- Result 1 ---\n",
            "Chroma is a vector database optimized for LLM-based search.\n",
            "\n",
            "--- Result 2 ---\n",
            "LangChain helps developers build LLM applications easily.\n"
          ]
        }
      ],
      "source": [
        "for i, doc in enumerate(results):\n",
        "    print(f\"\\n--- Result {i+1} ---\")\n",
        "    print(doc.page_content)"
      ]
    },
    {
      "cell_type": "code",
      "execution_count": 17,
      "metadata": {
        "id": "hh0zC7L6R1Zn"
      },
      "outputs": [],
      "source": [
        "results = vectorstore.similarity_search(query, k=2)"
      ]
    },
    {
      "cell_type": "code",
      "execution_count": 18,
      "metadata": {
        "colab": {
          "base_uri": "https://localhost:8080/"
        },
        "id": "J7kYMau5R1sC",
        "outputId": "d7b05617-45d7-4584-d18a-a578e4a28e89"
      },
      "outputs": [
        {
          "name": "stdout",
          "output_type": "stream",
          "text": [
            "\n",
            "--- Result 1 ---\n",
            "Chroma is a vector database optimized for LLM-based search.\n",
            "\n",
            "--- Result 2 ---\n",
            "LangChain helps developers build LLM applications easily.\n"
          ]
        }
      ],
      "source": [
        "for i, doc in enumerate(results):\n",
        "    print(f\"\\n--- Result {i+1} ---\")\n",
        "    print(doc.page_content)"
      ]
    },
    {
      "cell_type": "markdown",
      "metadata": {},
      "source": [
        "Note we can use either reviter or vector store to get similar text but with the help retriver we can change the stratergy of search and retriver is a runnable object we can use it to integrate with the help of chains"
      ]
    },
    {
      "cell_type": "markdown",
      "metadata": {
        "id": "zDwJT1x9A2tI"
      },
      "source": [
        "## MMR"
      ]
    },
    {
      "cell_type": "code",
      "execution_count": 19,
      "metadata": {
        "id": "8uL8bET570ud"
      },
      "outputs": [],
      "source": [
        "# Sample documents\n",
        "docs = [\n",
        "    Document(page_content=\"LangChain makes it easy to work with LLMs.\"),\n",
        "    Document(page_content=\"LangChain is used to build LLM based applications.\"),\n",
        "    Document(page_content=\"Chroma is used to store and search document embeddings.\"),\n",
        "    Document(page_content=\"Embeddings are vector representations of text.\"),\n",
        "    Document(page_content=\"MMR helps you get diverse results when doing similarity search.\"),\n",
        "    Document(page_content=\"LangChain supports Chroma, FAISS, Pinecone, and more.\"),\n",
        "]"
      ]
    },
    {
      "cell_type": "code",
      "execution_count": 20,
      "metadata": {
        "id": "TM7GvqKeA8ml"
      },
      "outputs": [],
      "source": [
        "from langchain_community.vectorstores import FAISS\n",
        "\n",
        "# Initialize OpenAI embeddings\n",
        "# embedding_model = OpenAIEmbeddings()\n",
        "embedding_model = HuggingFaceEmbeddings(model_name=\"all-MiniLM-L6-v2\")\n",
        "\n",
        "# Step 2: Create the FAISS vector store from documents\n",
        "vectorstore = FAISS.from_documents(\n",
        "    documents=docs,\n",
        "    embedding=embedding_model\n",
        ")"
      ]
    },
    {
      "cell_type": "code",
      "execution_count": 27,
      "metadata": {
        "id": "ueDg6SApBAqt"
      },
      "outputs": [],
      "source": [
        "# Enable MMR in the retriever\n",
        "retriever = vectorstore.as_retriever(\n",
        "    search_type=\"mmr\",                   # <-- This enables MMR\n",
        "    search_kwargs={\"k\": 3, \"lambda_mult\": 0}  # k = top results, lambda_mult = relevance-diversity balance\n",
        ")"
      ]
    },
    {
      "cell_type": "code",
      "execution_count": 28,
      "metadata": {
        "id": "52AkKNz7Chcf"
      },
      "outputs": [],
      "source": [
        "query = \"What is langchain?\"\n",
        "results = retriever.invoke(query)"
      ]
    },
    {
      "cell_type": "code",
      "execution_count": 29,
      "metadata": {
        "colab": {
          "base_uri": "https://localhost:8080/"
        },
        "id": "H-HvthKyCkBL",
        "outputId": "6bec200b-9541-480f-fa94-1b8c6b3174f2"
      },
      "outputs": [
        {
          "name": "stdout",
          "output_type": "stream",
          "text": [
            "\n",
            "--- Result 1 ---\n",
            "LangChain supports Chroma, FAISS, Pinecone, and more.\n",
            "\n",
            "--- Result 2 ---\n",
            "MMR helps you get diverse results when doing similarity search.\n",
            "\n",
            "--- Result 3 ---\n",
            "Embeddings are vector representations of text.\n"
          ]
        }
      ],
      "source": [
        "for i, doc in enumerate(results):\n",
        "    print(f\"\\n--- Result {i+1} ---\")\n",
        "    print(doc.page_content)"
      ]
    },
    {
      "cell_type": "markdown",
      "metadata": {
        "id": "HFybBaL-Eu8-"
      },
      "source": [
        "## Multiquery Retriever"
      ]
    },
    {
      "cell_type": "code",
      "execution_count": 30,
      "metadata": {
        "id": "Djm-59wI1J-s"
      },
      "outputs": [],
      "source": [
        "from langchain_community.vectorstores import FAISS\n",
        "from langchain_openai import OpenAIEmbeddings\n",
        "from langchain_core.documents import Document\n",
        "from langchain_openai import ChatOpenAI\n",
        "from langchain.retrievers.multi_query import MultiQueryRetriever"
      ]
    },
    {
      "cell_type": "code",
      "execution_count": 31,
      "metadata": {
        "id": "Vxr_cxaJ1KQV"
      },
      "outputs": [],
      "source": [
        "# Relevant health & wellness documents\n",
        "all_docs = [\n",
        "    Document(page_content=\"Regular walking boosts heart health and can reduce symptoms of depression.\", metadata={\"source\": \"H1\"}),\n",
        "    Document(page_content=\"Consuming leafy greens and fruits helps detox the body and improve longevity.\", metadata={\"source\": \"H2\"}),\n",
        "    Document(page_content=\"Deep sleep is crucial for cellular repair and emotional regulation.\", metadata={\"source\": \"H3\"}),\n",
        "    Document(page_content=\"Mindfulness and controlled breathing lower cortisol and improve mental clarity.\", metadata={\"source\": \"H4\"}),\n",
        "    Document(page_content=\"Drinking sufficient water throughout the day helps maintain metabolism and energy.\", metadata={\"source\": \"H5\"}),\n",
        "    Document(page_content=\"The solar energy system in modern homes helps balance electricity demand.\", metadata={\"source\": \"I1\"}),\n",
        "    Document(page_content=\"Python balances readability with power, making it a popular system design language.\", metadata={\"source\": \"I2\"}),\n",
        "    Document(page_content=\"Photosynthesis enables plants to produce energy by converting sunlight.\", metadata={\"source\": \"I3\"}),\n",
        "    Document(page_content=\"The 2022 FIFA World Cup was held in Qatar and drew global energy and excitement.\", metadata={\"source\": \"I4\"}),\n",
        "    Document(page_content=\"Black holes bend spacetime and store immense gravitational energy.\", metadata={\"source\": \"I5\"}),\n",
        "]"
      ]
    },
    {
      "cell_type": "code",
      "execution_count": 32,
      "metadata": {
        "id": "pq6eouD41KfF"
      },
      "outputs": [],
      "source": [
        "# Initialize OpenAI embeddings\n",
        "# embedding_model = OpenAIEmbeddings()\n",
        "embedding_model = HuggingFaceEmbeddings(model_name=\"all-MiniLM-L6-v2\")\n",
        "\n",
        "\n",
        "# Create FAISS vector store\n",
        "vectorstore = FAISS.from_documents(documents=all_docs, embedding=embedding_model)"
      ]
    },
    {
      "cell_type": "code",
      "execution_count": 41,
      "metadata": {
        "id": "kh62ZNvD1Krv"
      },
      "outputs": [],
      "source": [
        "# Create retrievers\n",
        "similarity_retriever = vectorstore.as_retriever(search_type=\"similarity\", search_kwargs={\"k\": 2})"
      ]
    },
    {
      "cell_type": "code",
      "execution_count": 35,
      "metadata": {},
      "outputs": [],
      "source": [
        "from langchain_groq import ChatGroq\n",
        "\n",
        "model = ChatGroq(\n",
        "        groq_api_key=os.getenv(\"GROQ_API_KEY\"),\n",
        "        model_name=\"Gemma2-9b-It\",\n",
        "        temperature=0.5 ## this is creative parameter\n",
        "    )"
      ]
    },
    {
      "cell_type": "code",
      "execution_count": 45,
      "metadata": {
        "id": "vXUHDW6m1K75"
      },
      "outputs": [],
      "source": [
        "#MultiQueryRetriever\n",
        "multiquery_retriever = MultiQueryRetriever.from_llm(\n",
        "    retriever=vectorstore.as_retriever(search_kwargs={\"k\": 2}),\n",
        "    llm=model\n",
        ")"
      ]
    },
    {
      "cell_type": "code",
      "execution_count": 42,
      "metadata": {
        "id": "9ybExIQQ1bnt"
      },
      "outputs": [],
      "source": [
        "# Query\n",
        "query = \"How to improve energy levels and maintain balance?\""
      ]
    },
    {
      "cell_type": "code",
      "execution_count": 43,
      "metadata": {
        "id": "V2SlmAoi1gOP"
      },
      "outputs": [],
      "source": [
        "# Retrieve results\n",
        "similarity_results = similarity_retriever.invoke(query)\n",
        "multiquery_results= multiquery_retriever.invoke(query)"
      ]
    },
    {
      "cell_type": "code",
      "execution_count": 44,
      "metadata": {
        "colab": {
          "base_uri": "https://localhost:8080/"
        },
        "id": "yQUtMLupwfe2",
        "outputId": "743431a3-5b0e-4f69-8af3-dec66a49f7ce"
      },
      "outputs": [
        {
          "name": "stdout",
          "output_type": "stream",
          "text": [
            "\n",
            "--- Result 1 ---\n",
            "Drinking sufficient water throughout the day helps maintain metabolism and energy.\n",
            "\n",
            "--- Result 2 ---\n",
            "The solar energy system in modern homes helps balance electricity demand.\n",
            "******************************************************************************************************************************************************\n",
            "\n",
            "--- Result 1 ---\n",
            "Black holes bend spacetime and store immense gravitational energy.\n",
            "\n",
            "--- Result 2 ---\n",
            "Python balances readability with power, making it a popular system design language.\n",
            "\n",
            "--- Result 3 ---\n",
            "Mindfulness and controlled breathing lower cortisol and improve mental clarity.\n",
            "\n",
            "--- Result 4 ---\n",
            "Regular walking boosts heart health and can reduce symptoms of depression.\n",
            "\n",
            "--- Result 5 ---\n",
            "Drinking sufficient water throughout the day helps maintain metabolism and energy.\n",
            "\n",
            "--- Result 6 ---\n",
            "The solar energy system in modern homes helps balance electricity demand.\n",
            "\n",
            "--- Result 7 ---\n",
            "Consuming leafy greens and fruits helps detox the body and improve longevity.\n"
          ]
        }
      ],
      "source": [
        "for i, doc in enumerate(similarity_results):\n",
        "    print(f\"\\n--- Result {i+1} ---\")\n",
        "    print(doc.page_content)\n",
        "\n",
        "print(\"*\"*150)\n",
        "\n",
        "for i, doc in enumerate(multiquery_results):\n",
        "    print(f\"\\n--- Result {i+1} ---\")\n",
        "    print(doc.page_content)"
      ]
    },
    {
      "cell_type": "markdown",
      "metadata": {
        "id": "6AP7o9-VJ0Zq"
      },
      "source": [
        "## ContextualCompressionRetriever"
      ]
    },
    {
      "cell_type": "code",
      "execution_count": 46,
      "metadata": {
        "id": "RVl6n3HH6gp_"
      },
      "outputs": [],
      "source": [
        "from langchain_community.vectorstores import FAISS\n",
        "from langchain_openai import OpenAIEmbeddings, ChatOpenAI\n",
        "from langchain.retrievers.contextual_compression import ContextualCompressionRetriever\n",
        "from langchain.retrievers.document_compressors import LLMChainExtractor\n",
        "from langchain_core.documents import Document"
      ]
    },
    {
      "cell_type": "code",
      "execution_count": 47,
      "metadata": {
        "id": "RmLD6aZB6g1k"
      },
      "outputs": [],
      "source": [
        "# Recreate the document objects from the previous data\n",
        "docs = [\n",
        "    Document(page_content=(\n",
        "        \"\"\"The Grand Canyon is one of the most visited natural wonders in the world.\n",
        "        Photosynthesis is the process by which green plants convert sunlight into energy.\n",
        "        Millions of tourists travel to see it every year. The rocks date back millions of years.\"\"\"\n",
        "    ), metadata={\"source\": \"Doc1\"}),\n",
        "\n",
        "    Document(page_content=(\n",
        "        \"\"\"In medieval Europe, castles were built primarily for defense.\n",
        "        The chlorophyll in plant cells captures sunlight during photosynthesis.\n",
        "        Knights wore armor made of metal. Siege weapons were often used to breach castle walls.\"\"\"\n",
        "    ), metadata={\"source\": \"Doc2\"}),\n",
        "\n",
        "    Document(page_content=(\n",
        "        \"\"\"Basketball was invented by Dr. James Naismith in the late 19th century.\n",
        "        It was originally played with a soccer ball and peach baskets. NBA is now a global league.\"\"\"\n",
        "    ), metadata={\"source\": \"Doc3\"}),\n",
        "\n",
        "    Document(page_content=(\n",
        "        \"\"\"The history of cinema began in the late 1800s. Silent films were the earliest form.\n",
        "        Thomas Edison was among the pioneers. Photosynthesis does not occur in animal cells.\n",
        "        Modern filmmaking involves complex CGI and sound design.\"\"\"\n",
        "    ), metadata={\"source\": \"Doc4\"})\n",
        "]"
      ]
    },
    {
      "cell_type": "code",
      "execution_count": 48,
      "metadata": {
        "id": "tgMNKHnv6hD8"
      },
      "outputs": [],
      "source": [
        "# Create a FAISS vector store from the documents\n",
        "# embedding_model = OpenAIEmbeddings()\n",
        "embedding_model = HuggingFaceEmbeddings(model_name=\"all-MiniLM-L6-v2\")\n",
        "\n",
        "vectorstore = FAISS.from_documents(docs, embedding_model)"
      ]
    },
    {
      "cell_type": "code",
      "execution_count": 49,
      "metadata": {
        "id": "vlAqc8lQrz_B"
      },
      "outputs": [],
      "source": [
        "base_retriever = vectorstore.as_retriever(search_kwargs={\"k\": 5})"
      ]
    },
    {
      "cell_type": "code",
      "execution_count": 51,
      "metadata": {},
      "outputs": [],
      "source": [
        "llm = ChatGroq(\n",
        "        groq_api_key=os.getenv(\"GROQ_API_KEY\"),\n",
        "        model_name=\"Gemma2-9b-It\",\n",
        "        temperature=0.5 ## this is creative parameter\n",
        "    )"
      ]
    },
    {
      "cell_type": "code",
      "execution_count": 52,
      "metadata": {
        "id": "nHjUdgiS6hRK"
      },
      "outputs": [],
      "source": [
        "# Set up the compressor using an LLM\n",
        "# llm = ChatOpenAI(model=\"gpt-3.5-turbo\")\n",
        "compressor = LLMChainExtractor.from_llm(llm)"
      ]
    },
    {
      "cell_type": "code",
      "execution_count": 53,
      "metadata": {
        "id": "um5gKEMT6hdB"
      },
      "outputs": [],
      "source": [
        "# Create the contextual compression retriever\n",
        "compression_retriever = ContextualCompressionRetriever(\n",
        "    base_retriever=base_retriever,\n",
        "    base_compressor=compressor\n",
        ")"
      ]
    },
    {
      "cell_type": "code",
      "execution_count": 54,
      "metadata": {
        "id": "lmHGenTo6hp6"
      },
      "outputs": [],
      "source": [
        "# Query the retriever\n",
        "query = \"What is photosynthesis?\"\n",
        "compressed_results = compression_retriever.invoke(query)"
      ]
    },
    {
      "cell_type": "code",
      "execution_count": 55,
      "metadata": {},
      "outputs": [
        {
          "name": "stdout",
          "output_type": "stream",
          "text": [
            "\n",
            "--- Result 1 ---\n",
            "Photosynthesis is the process by which green plants convert sunlight into energy.\n",
            "\n",
            "--- Result 2 ---\n",
            "The chlorophyll in plant cells captures sunlight during photosynthesis.\n",
            "\n",
            "--- Result 3 ---\n",
            "Photosynthesis does not occur in animal cells.\n"
          ]
        }
      ],
      "source": [
        "for i, doc in enumerate(compressed_results):\n",
        "    print(f\"\\n--- Result {i+1} ---\")\n",
        "    print(doc.page_content)\n"
      ]
    },
    {
      "cell_type": "code",
      "execution_count": null,
      "metadata": {
        "colab": {
          "base_uri": "https://localhost:8080/"
        },
        "id": "SyIUYw035g0c",
        "outputId": "99a654d5-9239-4912-fd3e-4130c00b115a"
      },
      "outputs": [
        {
          "name": "stdout",
          "output_type": "stream",
          "text": [
            "\n",
            "--- Result 1 ---\n",
            "Photosynthesis is the process by which green plants convert sunlight into energy.\n",
            "\n",
            "--- Result 2 ---\n",
            "The chlorophyll in plant cells captures sunlight during photosynthesis.\n"
          ]
        }
      ],
      "source": [
        "for i, doc in enumerate(compressed_results):\n",
        "    print(f\"\\n--- Result {i+1} ---\")\n",
        "    print(doc.page_content)\n"
      ]
    }
  ],
  "metadata": {
    "colab": {
      "provenance": []
    },
    "kernelspec": {
      "display_name": "Python 3",
      "name": "python3"
    },
    "language_info": {
      "codemirror_mode": {
        "name": "ipython",
        "version": 3
      },
      "file_extension": ".py",
      "mimetype": "text/x-python",
      "name": "python",
      "nbconvert_exporter": "python",
      "pygments_lexer": "ipython3",
      "version": "3.10.0"
    }
  },
  "nbformat": 4,
  "nbformat_minor": 0
}
