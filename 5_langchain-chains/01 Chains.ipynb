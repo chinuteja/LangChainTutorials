{
 "cells": [
  {
   "cell_type": "markdown",
   "id": "6f07596d",
   "metadata": {},
   "source": [
    "## Importing Modules"
   ]
  },
  {
   "cell_type": "code",
   "execution_count": 29,
   "id": "d28e9ec1",
   "metadata": {},
   "outputs": [
    {
     "data": {
      "text/plain": [
       "True"
      ]
     },
     "execution_count": 29,
     "metadata": {},
     "output_type": "execute_result"
    }
   ],
   "source": [
    "from langchain_openai import ChatOpenAI\n",
    "from langchain_core.messages import SystemMessage, HumanMessage, AIMessage\n",
    "from dotenv import load_dotenv\n",
    "from langchain_groq import ChatGroq\n",
    "from langchain_core.output_parsers import StrOutputParser,JsonOutputParser\n",
    "from langchain.output_parsers import StructuredOutputParser, ResponseSchema,PydanticOutputParser\n",
    "from groq import Groq\n",
    "from langchain_core.prompts import PromptTemplate\n",
    "from langchain.schema.runnable import RunnableParallel,RunnableBranch, RunnableLambda\n",
    "\n",
    "\n",
    "\n",
    "import os\n",
    "from typing import TypedDict,Annotated,Optional,Literal\n",
    "from pydantic import BaseModel, EmailStr, Field\n",
    "\n",
    "import warnings\n",
    "warnings.filterwarnings(\"ignore\")\n",
    "\n",
    "load_dotenv()"
   ]
  },
  {
   "cell_type": "code",
   "execution_count": 2,
   "id": "c6acfd14",
   "metadata": {},
   "outputs": [],
   "source": [
    "model = ChatGroq(\n",
    "        groq_api_key=os.getenv(\"GROQ_API_KEY\"),\n",
    "        model_name=\"Gemma2-9b-It\",\n",
    "        temperature=0.5 ## this is creative parameter\n",
    "    )"
   ]
  },
  {
   "cell_type": "markdown",
   "id": "3a6099e3",
   "metadata": {},
   "source": [
    "## Sequential Chains"
   ]
  },
  {
   "cell_type": "code",
   "execution_count": 4,
   "id": "a755b2d8",
   "metadata": {},
   "outputs": [
    {
     "name": "stdout",
     "output_type": "stream",
     "text": [
      "Here are 3 interesting facts about biryani:\n",
      "\n",
      "1. **Origins are debated:** While often associated with India, the exact origin of biryani is unclear. Some believe it originated in Persia, others in the Indian subcontinent, and some even trace it back to ancient Arab culinary traditions. \n",
      "\n",
      "2. **A royal dish:** Biryani was traditionally a dish reserved for royalty and nobility due to its elaborate preparation and use of expensive ingredients like saffron and meat. \n",
      "\n",
      "3. **Regional variations abound:**  Biryani is incredibly diverse, with countless regional variations across India, Pakistan, Bangladesh, and other South Asian countries. Each region boasts its own unique blend of spices, cooking methods, and even types of meat or vegetables used. \n",
      "\n",
      "\n",
      "Let me know if you'd like to explore any of these facts further! \n",
      "\n"
     ]
    }
   ],
   "source": [
    "\n",
    "## creating Prompt\n",
    "prompt = PromptTemplate(\n",
    "    template = \"Generate 3 interesting facts about {topic}\",\n",
    "    input_variables = [\"topic\"]\n",
    ")\n",
    "\n",
    "## create string output parser object\n",
    "parser = StrOutputParser()\n",
    "\n",
    "## creating a chain (this is called lanchain expressin language LCEL)\n",
    "chain = prompt | model | parser\n",
    "result = chain.invoke({\"topic\":\"biryani\"})\n",
    "print(result)"
   ]
  },
  {
   "cell_type": "code",
   "execution_count": 10,
   "id": "70d0ed1e",
   "metadata": {},
   "outputs": [],
   "source": [
    "# chain.get_graph().print_ascii()"
   ]
  },
  {
   "cell_type": "markdown",
   "id": "c8c91b3e",
   "metadata": {},
   "source": [
    "## Sequential Chain"
   ]
  },
  {
   "cell_type": "code",
   "execution_count": 11,
   "id": "17105845",
   "metadata": {},
   "outputs": [],
   "source": [
    "prompt1 = PromptTemplate(\n",
    "    template='Generate a detailed report on {topic}',\n",
    "    input_variables=['topic']\n",
    ")\n",
    "\n",
    "prompt2 = PromptTemplate(\n",
    "    template='Generate a 5 pointer summary from the following text \\n {text}',\n",
    "    input_variables=['text']\n",
    ")"
   ]
  },
  {
   "cell_type": "code",
   "execution_count": 12,
   "id": "8a90a448",
   "metadata": {},
   "outputs": [
    {
     "name": "stdout",
     "output_type": "stream",
     "text": [
      "Here's a 5-point summary of the text:\n",
      "\n",
      "1. **Current US Unemployment:** The report highlights the current unemployment rate, labor force participation rate, and number of unemployed individuals, citing data from the Bureau of Labor Statistics.\n",
      "2. **Unemployment Trends:**  It outlines recent fluctuations in unemployment, including the impact of the COVID-19 pandemic and subsequent economic recovery. Long-term trends show a general decline in unemployment, but with ongoing volatility.\n",
      "3. **Factors Driving Unemployment:** The report identifies key contributors to unemployment, such as economic cycles, technological change, globalization, demographic shifts, skills gaps, and government policies.\n",
      "4. **Consequences of Unemployment:**  It emphasizes the negative impacts of unemployment, both on individuals (financial hardship, stress, mental health) and society (strained social welfare, reduced economic output, social unrest).\n",
      "5. **Potential Solutions:** The report proposes a multi-pronged approach to address unemployment, including promoting economic growth, investing in education and training, creating job opportunities, implementing labor market reforms, and strengthening social safety net programs. \n",
      "\n",
      "\n",
      "\n"
     ]
    }
   ],
   "source": [
    "parser = StrOutputParser()\n",
    "\n",
    "chain = prompt1 | model | parser | prompt2 | model | parser\n",
    "\n",
    "result = chain.invoke({'topic': 'Unemployment in USA'})\n",
    "\n",
    "print(result)"
   ]
  },
  {
   "cell_type": "markdown",
   "id": "f2268a28",
   "metadata": {},
   "source": [
    "## Parallel Chain"
   ]
  },
  {
   "cell_type": "code",
   "execution_count": 24,
   "id": "c689cc45",
   "metadata": {},
   "outputs": [],
   "source": [
    "model1 = ChatGroq(\n",
    "        groq_api_key=os.getenv(\"GROQ_API_KEY\"),\n",
    "        model_name=\"Gemma2-9b-It\",\n",
    "        temperature=0.5 ## this is creative parameter\n",
    "    )\n",
    "##\n",
    "\n",
    "model2 = ChatGroq(\n",
    "        groq_api_key=os.getenv(\"GROQ_API_KEY\"),\n",
    "        model_name=\"deepseek-r1-distill-llama-70b\",\n",
    "        temperature=0.5 ## this is creative parameter\n",
    "    )"
   ]
  },
  {
   "cell_type": "code",
   "execution_count": 25,
   "id": "af7ea357",
   "metadata": {},
   "outputs": [],
   "source": [
    "prompt1 = PromptTemplate(\n",
    "    template='Generate short and simple notes from the following text \\n {text}',\n",
    "    input_variables=['text']\n",
    ")\n",
    "\n",
    "prompt2 = PromptTemplate(\n",
    "    template='Generate 5 short question answers from the following text \\n {text}',\n",
    "    input_variables=['text']\n",
    ")\n",
    "\n",
    "prompt3 = PromptTemplate(\n",
    "    template='Merge the provided notes and quiz into a single document \\n notes -> {notes} and quiz -> {quiz}',\n",
    "    input_variables=['notes', 'quiz']\n",
    ")\n"
   ]
  },
  {
   "cell_type": "code",
   "execution_count": null,
   "id": "78a580f7",
   "metadata": {},
   "outputs": [],
   "source": [
    "parser = StrOutputParser()\n",
    "\n",
    "## creating the parallel chain\n",
    "parallel_chain = RunnableParallel({\n",
    "    'notes': prompt1 | model1 | parser,\n",
    "    'quiz': prompt2 | model1 | parser\n",
    "})\n",
    "\n",
    "## merging the chain\n",
    "merge_chain = prompt3 | model2 | parser\n",
    "\n",
    "chain = parallel_chain | merge_chain\n"
   ]
  },
  {
   "cell_type": "code",
   "execution_count": 27,
   "id": "6da50044",
   "metadata": {},
   "outputs": [],
   "source": [
    "text = \"\"\"\n",
    "Support vector machines (SVMs) are a set of supervised learning methods used for classification, regression and outliers detection.\n",
    "\n",
    "The advantages of support vector machines are:\n",
    "\n",
    "Effective in high dimensional spaces.\n",
    "\n",
    "Still effective in cases where number of dimensions is greater than the number of samples.\n",
    "\n",
    "Uses a subset of training points in the decision function (called support vectors), so it is also memory efficient.\n",
    "\n",
    "Versatile: different Kernel functions can be specified for the decision function. Common kernels are provided, but it is also possible to specify custom kernels.\n",
    "\n",
    "The disadvantages of support vector machines include:\n",
    "\n",
    "If the number of features is much greater than the number of samples, avoid over-fitting in choosing Kernel functions and regularization term is crucial.\n",
    "\n",
    "SVMs do not directly provide probability estimates, these are calculated using an expensive five-fold cross-validation (see Scores and probabilities, below).\n",
    "\n",
    "The support vector machines in scikit-learn support both dense (numpy.ndarray and convertible to that by numpy.asarray) and sparse (any scipy.sparse) sample vectors as input. However, to use an SVM to make predictions for sparse data, it must have been fit on such data. For optimal performance, use C-ordered numpy.ndarray (dense) or scipy.sparse.csr_matrix (sparse) with dtype=float64.\n",
    "\"\"\"\n"
   ]
  },
  {
   "cell_type": "code",
   "execution_count": 28,
   "id": "f2909fd8",
   "metadata": {},
   "outputs": [
    {
     "name": "stdout",
     "output_type": "stream",
     "text": [
      "## Support Vector Machines (SVMs) \n",
      "\n",
      "**What they are:**\n",
      "\n",
      "* Supervised learning methods for classification, regression, and outlier detection.\n",
      "\n",
      "**Advantages:**\n",
      "\n",
      "* **Effective in high dimensions:**  Works well even when features outnumber samples.\n",
      "* **Memory efficient:** Uses only a subset of training data (support vectors) for decision making.\n",
      "* **Versatile:**  Different kernel functions can be used for flexibility.\n",
      "\n",
      "**Disadvantages:**\n",
      "\n",
      "* **Overfitting risk:**  Careful kernel selection and regularization are needed when features > samples.\n",
      "* **No direct probability estimates:** Requires expensive cross-validation for probability calculations.\n",
      "\n",
      "**Input Data:**\n",
      "\n",
      "* Supports both dense (numpy arrays) and sparse (scipy.sparse) data.\n",
      "*  Must be trained on the same data type used for prediction.\n",
      "* **Optimal:** C-ordered numpy arrays (dense) or scipy.sparse.csr_matrix (sparse) with float64 dtype. \n",
      "\n",
      "**Quiz:**\n",
      "\n",
      "1. **Q: What are support vector machines (SVMs) used for?**  \n",
      "   A: SVMs are used for classification, regression, and outlier detection.\n",
      "\n",
      "2. **Q: What is an advantage of SVMs in high-dimensional spaces?**  \n",
      "   A: SVMs are effective in high-dimensional spaces and can handle cases where the number of dimensions is greater than the number of samples.\n",
      "\n",
      "3. **Q: What is a disadvantage of SVMs in terms of probability estimates?**  \n",
      "   A: SVMs do not directly provide probability estimates; these are calculated using an expensive five-fold cross-validation.\n",
      "\n",
      "4. **Q: How are SVMs versatile in terms of their decision function?**  \n",
      "   A: SVMs are versatile because different kernel functions can be specified for the decision function, including custom kernels.\n",
      "\n",
      "5. **Q: What data formats does scikit-learn's SVM support?**  \n",
      "   A: Scikit-learn's SVM supports both dense (numpy.ndarray) and sparse (scipy.sparse) sample vectors as input. \n",
      "\n",
      "\n",
      "\n",
      "\n",
      "\n"
     ]
    }
   ],
   "source": [
    "result = chain.invoke({'text':text})\n",
    "\n",
    "print(result)"
   ]
  },
  {
   "cell_type": "markdown",
   "id": "1ba33b35",
   "metadata": {},
   "source": [
    "## Conditional Chain"
   ]
  },
  {
   "cell_type": "code",
   "execution_count": 31,
   "id": "5f97b007",
   "metadata": {},
   "outputs": [],
   "source": [
    "parser = StrOutputParser()\n",
    "\n",
    "class Feedback(BaseModel):\n",
    "\n",
    "    sentiment: Literal['positive', 'negative'] = Field(description='Give the sentiment of the feedback')\n",
    "\n",
    "parser2 = PydanticOutputParser(pydantic_object=Feedback)\n"
   ]
  },
  {
   "cell_type": "code",
   "execution_count": 32,
   "id": "9b606022",
   "metadata": {},
   "outputs": [],
   "source": [
    "prompt1 = PromptTemplate(\n",
    "    template='Classify the sentiment of the following feedback text into postive or negative \\n {feedback} \\n {format_instruction}',\n",
    "    input_variables=['feedback'],\n",
    "    partial_variables={'format_instruction':parser2.get_format_instructions()}\n",
    ")"
   ]
  },
  {
   "cell_type": "code",
   "execution_count": 33,
   "id": "feb90b7a",
   "metadata": {},
   "outputs": [],
   "source": [
    "classifier_chain = prompt1 | model | parser2"
   ]
  },
  {
   "cell_type": "code",
   "execution_count": 34,
   "id": "f99a443b",
   "metadata": {},
   "outputs": [],
   "source": [
    "prompt2 = PromptTemplate(\n",
    "    template='Write an appropriate response to this positive feedback \\n {feedback}',\n",
    "    input_variables=['feedback']\n",
    ")\n",
    "\n",
    "prompt3 = PromptTemplate(\n",
    "    template='Write an appropriate response to this negative feedback \\n {feedback}',\n",
    "    input_variables=['feedback']\n",
    ")"
   ]
  },
  {
   "cell_type": "code",
   "execution_count": null,
   "id": "8949d8f9",
   "metadata": {},
   "outputs": [],
   "source": [
    "branch_chain = RunnableBranch(\n",
    "    (lambda x:x.sentiment == 'positive', prompt2 | model | parser), ## its lke if else\n",
    "    (lambda x:x.sentiment == 'negative', prompt3 | model | parser),\n",
    "    RunnableLambda(lambda x: \"could not find sentiment\")\n",
    ")"
   ]
  },
  {
   "cell_type": "code",
   "execution_count": 39,
   "id": "16788be6",
   "metadata": {},
   "outputs": [
    {
     "name": "stdout",
     "output_type": "stream",
     "text": [
      "Here are some appropriate responses to positive feedback, depending on the context:\n",
      "\n",
      "**Formal:**\n",
      "\n",
      "* Thank you for your kind words. I appreciate your feedback.\n",
      "* I'm delighted to hear that you're satisfied.\n",
      "* We strive to provide excellent service, and your feedback is encouraging.\n",
      "\n",
      "**Informal:**\n",
      "\n",
      "* Thanks so much! I'm glad you liked it.\n",
      "* That means a lot to me, thanks!\n",
      "* Awesome! I'm happy to hear that.\n",
      "\n",
      "**Adding a personal touch:**\n",
      "\n",
      "* Thank you! I put a lot of effort into [specific aspect mentioned in feedback], so I'm really glad it showed.\n",
      "* I appreciate you taking the time to leave feedback. It helps me to know what I'm doing well.\n",
      "* Your positive feedback is truly motivating!\n",
      "\n",
      "**When responding to feedback on a product or service:**\n",
      "\n",
      "* Thank you for your feedback! We're always looking for ways to improve, and we'll take your comments into consideration.\n",
      "* We're so glad you're enjoying [product/service name]! We're committed to providing our customers with the best possible experience.\n",
      "\n",
      "\n",
      "No matter which response you choose, be sure to be sincere and appreciative. \n",
      "\n"
     ]
    }
   ],
   "source": [
    "chain = classifier_chain | branch_chain\n",
    "\n",
    "print(chain.invoke({'feedback': 'This is a beautiful phone'}))"
   ]
  }
 ],
 "metadata": {
  "kernelspec": {
   "display_name": "Python 3",
   "language": "python",
   "name": "python3"
  },
  "language_info": {
   "codemirror_mode": {
    "name": "ipython",
    "version": 3
   },
   "file_extension": ".py",
   "mimetype": "text/x-python",
   "name": "python",
   "nbconvert_exporter": "python",
   "pygments_lexer": "ipython3",
   "version": "3.10.0"
  }
 },
 "nbformat": 4,
 "nbformat_minor": 5
}
