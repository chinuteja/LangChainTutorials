{
 "cells": [
  {
   "cell_type": "markdown",
   "id": "3aa7d37e",
   "metadata": {},
   "source": [
    "## Importing Modules"
   ]
  },
  {
   "cell_type": "code",
   "execution_count": 25,
   "id": "88fc1181",
   "metadata": {},
   "outputs": [
    {
     "data": {
      "text/plain": [
       "True"
      ]
     },
     "execution_count": 25,
     "metadata": {},
     "output_type": "execute_result"
    }
   ],
   "source": [
    "from langchain_community.document_loaders import CSVLoader\n",
    "from langchain_community.document_loaders import WebBaseLoader\n",
    "from langchain_community.document_loaders import PyPDFLoader,DirectoryLoader\n",
    "from langchain.schema.runnable import RunnableParallel,RunnableBranch, RunnableLambda,RunnableSequence,RunnablePassthrough\n",
    "\n",
    "from langchain_community.document_loaders import TextLoader\n",
    "from langchain_openai import ChatOpenAI\n",
    "from langchain_core.output_parsers import StrOutputParser\n",
    "from langchain_core.prompts import PromptTemplate\n",
    "from langchain_groq import ChatGroq\n",
    "from dotenv import load_dotenv\n",
    "import os\n",
    "\n",
    "load_dotenv()\n"
   ]
  },
  {
   "cell_type": "code",
   "execution_count": 4,
   "id": "33316a9d",
   "metadata": {},
   "outputs": [],
   "source": [
    "model = ChatGroq(\n",
    "        groq_api_key=os.getenv(\"GROQ_API_KEY\"),\n",
    "        model_name=\"Gemma2-9b-It\",\n",
    "        temperature=0.5 ## this is creative parameter\n",
    "    )"
   ]
  },
  {
   "cell_type": "markdown",
   "id": "ff5536b0",
   "metadata": {},
   "source": [
    "## Text Loader"
   ]
  },
  {
   "cell_type": "code",
   "execution_count": 5,
   "id": "8a699e74",
   "metadata": {},
   "outputs": [],
   "source": [
    "prompt = PromptTemplate(\n",
    "    template='Write a summary for the following poem - \\n {poem}',\n",
    "    input_variables=['poem']\n",
    ")\n",
    "\n",
    "parser = StrOutputParser()\n",
    "\n",
    "loader = TextLoader('cricket.txt', encoding='utf-8')\n",
    "\n",
    "docs = loader.load()"
   ]
  },
  {
   "cell_type": "code",
   "execution_count": 10,
   "id": "40325ec7",
   "metadata": {},
   "outputs": [
    {
     "name": "stdout",
     "output_type": "stream",
     "text": [
      "<class 'list'>\n",
      "1\n",
      "Beneath the sun or floodlight's gleam,\n",
      "\n",
      "Cricket lives like a waking dream.\n",
      "\n",
      "A field of green, a willowed sound,\n",
      "\n",
      "Where legend\n",
      "{'source': 'cricket.txt'}\n"
     ]
    }
   ],
   "source": [
    "print(type(docs))\n",
    "\n",
    "print(len(docs))\n",
    "\n",
    "print(docs[0].page_content[0:125])\n",
    "\n",
    "print(docs[0].metadata)"
   ]
  },
  {
   "cell_type": "code",
   "execution_count": 11,
   "id": "51bca288",
   "metadata": {},
   "outputs": [
    {
     "name": "stdout",
     "output_type": "stream",
     "text": [
      "This poem is a passionate ode to the sport of cricket. It celebrates the game's universal appeal, its ability to unite people from all walks of life, and its rich history and traditions. \n",
      "\n",
      "The poem takes the reader on a journey through a cricket match, capturing the excitement and drama of every moment, from the coin toss to the final ball. It highlights the skill, strategy, and athleticism of the players, as well as the passion and devotion of the fans. \n",
      "\n",
      "Beyond the technical aspects of the game, the poem emphasizes the emotional resonance of cricket. It speaks of the joy of victory, the agony of defeat, and the shared experience that binds players and spectators alike. The poem also acknowledges the game's cultural significance, its ability to transcend borders and unite people through a common love for the sport.\n",
      "\n",
      "Ultimately, the poem is a love letter to cricket, a celebration of its enduring legacy and its power to inspire and unite. \n",
      "\n",
      "\n",
      "\n"
     ]
    }
   ],
   "source": [
    "chain = prompt | model | parser\n",
    "\n",
    "print(chain.invoke({'poem':docs[0].page_content}))"
   ]
  },
  {
   "cell_type": "code",
   "execution_count": null,
   "id": "2aaeec7c",
   "metadata": {},
   "outputs": [
    {
     "name": "stdout",
     "output_type": "stream",
     "text": [
      "This poem is a passionate ode to the sport of cricket. \n",
      "\n",
      "It celebrates the game's global appeal, its ability to unite people from all walks of life, and its rich history and traditions. The poem uses vivid imagery and metaphors to capture the excitement and drama of a cricket match, from the tense moments of a bowler's run-up to the elation of a boundary hit. \n",
      "\n",
      "It highlights the skill, strategy, and sportsmanship involved in the game, as well as the emotional connection players and fans have with it. The poem also emphasizes the enduring legacy of cricket, passed down through generations and played on fields from dusty lanes to iconic stadiums. \n",
      "\n",
      "Ultimately, it's a love letter to cricket, celebrating its ability to inspire, entertain, and bring people together. \n",
      "\n"
     ]
    }
   ],
   "source": [
    "## Using Runnable sequeence\n",
    "parser = StrOutputParser()\n",
    "\n",
    "chain = RunnableSequence(prompt,model,parser)\n",
    "result = chain.invoke({'poem':docs[0].page_content})\n",
    "print(result)"
   ]
  },
  {
   "cell_type": "markdown",
   "id": "36800769",
   "metadata": {},
   "source": [
    "## Pypdf loader"
   ]
  },
  {
   "cell_type": "code",
   "execution_count": 15,
   "id": "6c8c62c8",
   "metadata": {},
   "outputs": [
    {
     "name": "stdout",
     "output_type": "stream",
     "text": [
      "23\n",
      "CampusXDeepLearningCurriculum\n",
      "A.ArtificialNeuralNetworkandhowtoimprovethem\n",
      "1.BiologicalInspiration\n",
      "● Understandingtheneuronstructure● Synapsesandsignaltransmission● Howbiologicalconceptstranslatetoartificialneurons\n",
      "2.HistoryofNeuralNetworks\n",
      "● Earlymodels(Perceptron)● BackpropagationandMLPs● The\"AIWinter\"andresurgenceofneuralnetworks● Emergenceofdeeplearning\n",
      "3.PerceptronandMultilayerPerceptrons(MLP)\n",
      "● Single-layerperceptronlimitations● XORproblemandtheneedforhiddenlayers● MLParchitecture\n",
      "4. LayersandTheirFunctions\n",
      "● InputLayer○ Acceptinginputdata● HiddenLayers○ Featureextraction● OutputLayer○ Producingfinalpredictions\n",
      "5.ActivationFunctions\n",
      "{'producer': 'Skia/PDF m131 Google Docs Renderer', 'creator': 'PyPDF', 'creationdate': '', 'title': 'Deep Learning Curriculum', 'source': 'dl-curriculum.pdf', 'total_pages': 23, 'page': 1, 'page_label': '2'}\n"
     ]
    }
   ],
   "source": [
    "loader = PyPDFLoader('dl-curriculum.pdf')\n",
    "\n",
    "docs = loader.load()\n",
    "\n",
    "print(len(docs))\n",
    "\n",
    "print(docs[0].page_content)\n",
    "print(docs[1].metadata)"
   ]
  },
  {
   "cell_type": "code",
   "execution_count": 18,
   "id": "feeabe70",
   "metadata": {},
   "outputs": [
    {
     "data": {
      "text/plain": [
       "Document(metadata={'producer': 'Skia/PDF m131 Google Docs Renderer', 'creator': 'PyPDF', 'creationdate': '', 'title': 'Deep Learning Curriculum', 'source': 'dl-curriculum.pdf', 'total_pages': 23, 'page': 6, 'page_label': '7'}, page_content='○ Layers,activations● Contributions○ Handwrittendigitrecognition\\n12.AlexNet\\n● Breakthroughs○ Deepernetwork○ UseofReLU● ImpactonImageNetChallenge\\n13.VGGNetworks\\n● VGG-16andVGG-19● DesignPhilosophy○ Usingsmallfilters(3x3)○ Deepbutuniformarchitecture\\n14.InceptionNetworks(GoogLeNet)\\n● InceptionModules○ Parallelconvolutionallayers● Motivation○ Efficientcomputation\\n15.ResNet(ResidualNetworks)\\n● ResidualBlocks○ Identitymappings○ Shortcutconnections● SolvingVanishingGradientProblem● Variants○ ResNet-50,ResNet-101\\n16.MobileNets\\n● DepthwiseSeparableConvolutions')"
      ]
     },
     "execution_count": 18,
     "metadata": {},
     "output_type": "execute_result"
    }
   ],
   "source": [
    "docs[6]"
   ]
  },
  {
   "cell_type": "markdown",
   "id": "027ba86e",
   "metadata": {},
   "source": [
    "## Directory Loader"
   ]
  },
  {
   "cell_type": "code",
   "execution_count": 21,
   "id": "c0c38464",
   "metadata": {},
   "outputs": [
    {
     "name": "stdout",
     "output_type": "stream",
     "text": [
      "{'producer': 'Adobe PDF Library 10.0.1', 'creator': 'Adobe InDesign CS6 (Windows)', 'creationdate': '2015-03-24T13:14:02+05:30', 'moddate': '2015-03-25T17:33:08+05:30', 'trapped': '/False', 'source': 'books\\\\Building Machine Learning Systems with Python - Second Edition.pdf', 'total_pages': 326, 'page': 0, 'page_label': 'Cover'}\n",
      "{'producer': 'Adobe PDF Library 10.0.1', 'creator': 'Adobe InDesign CS6 (Windows)', 'creationdate': '2015-03-24T13:14:02+05:30', 'moddate': '2015-03-25T17:33:08+05:30', 'trapped': '/False', 'source': 'books\\\\Building Machine Learning Systems with Python - Second Edition.pdf', 'total_pages': 326, 'page': 1, 'page_label': 'FM1'}\n",
      "{'producer': 'Adobe PDF Library 10.0.1', 'creator': 'Adobe InDesign CS6 (Windows)', 'creationdate': '2015-03-24T13:14:02+05:30', 'moddate': '2015-03-25T17:33:08+05:30', 'trapped': '/False', 'source': 'books\\\\Building Machine Learning Systems with Python - Second Edition.pdf', 'total_pages': 326, 'page': 2, 'page_label': 'FM2'}\n"
     ]
    }
   ],
   "source": [
    "## cna load multiple documents in a folder\n",
    "loader = DirectoryLoader(\n",
    "    path='books',\n",
    "    glob='*.pdf',\n",
    "    loader_cls=PyPDFLoader\n",
    ")\n",
    "\n",
    "docs = loader.lazy_load()\n",
    "count = 0\n",
    "for document in docs:\n",
    "    print(document.metadata)\n",
    "    count += 1\n",
    "    if count == 3:\n",
    "        break"
   ]
  },
  {
   "cell_type": "markdown",
   "id": "cd717e2e",
   "metadata": {},
   "source": [
    "## CSV loader"
   ]
  },
  {
   "cell_type": "code",
   "execution_count": 22,
   "id": "e27731b6",
   "metadata": {},
   "outputs": [
    {
     "name": "stdout",
     "output_type": "stream",
     "text": [
      "400\n",
      "page_content='User ID: 15810944\n",
      "Gender: Male\n",
      "Age: 35\n",
      "EstimatedSalary: 20000\n",
      "Purchased: 0' metadata={'source': 'Social_Network_Ads.csv', 'row': 1}\n"
     ]
    }
   ],
   "source": [
    "loader = CSVLoader(file_path='Social_Network_Ads.csv')\n",
    "\n",
    "docs = loader.load()\n",
    "\n",
    "print(len(docs))\n",
    "print(docs[1])"
   ]
  },
  {
   "cell_type": "markdown",
   "id": "bedda86a",
   "metadata": {},
   "source": [
    "## Web base loader"
   ]
  },
  {
   "cell_type": "code",
   "execution_count": 26,
   "id": "c86c163c",
   "metadata": {},
   "outputs": [],
   "source": [
    "prompt = PromptTemplate(\n",
    "    template='Answer the following question \\n {question} from the following text - \\n {text}',\n",
    "    input_variables=['question','text']\n",
    ")\n",
    "\n",
    "parser = StrOutputParser()\n",
    "\n",
    "url = 'https://www.flipkart.com/apple-macbook-air-m2-16-gb-256-gb-ssd-macos-sequoia-mc7x4hn-a/p/itmdc5308fa78421'\n",
    "loader = WebBaseLoader(url)\n"
   ]
  },
  {
   "cell_type": "code",
   "execution_count": 27,
   "id": "57bc1785",
   "metadata": {},
   "outputs": [],
   "source": [
    "docs = loader.load()\n",
    "\n",
    "\n",
    "chain = prompt | model | parser"
   ]
  },
  {
   "cell_type": "code",
   "execution_count": 32,
   "id": "a6a9bdbc",
   "metadata": {},
   "outputs": [
    {
     "data": {
      "text/plain": [
       "{'source': 'https://www.flipkart.com/apple-macbook-air-m2-16-gb-256-gb-ssd-macos-sequoia-mc7x4hn-a/p/itmdc5308fa78421',\n",
       " 'title': 'Apple MacBook AIR Apple M2 - (8 GB/256 GB SSD/Mac OS Monterey) MLY33HN/A Rs.89900  Price in India - Buy Apple MacBook AIR Apple M2 - (8 GB/256 GB SSD/Mac OS Monterey) MLY33HN/A Midnight Online - Apple : Flipkart.com',\n",
       " 'language': 'en'}"
      ]
     },
     "execution_count": 32,
     "metadata": {},
     "output_type": "execute_result"
    }
   ],
   "source": [
    "docs[0].metadata"
   ]
  },
  {
   "cell_type": "code",
   "execution_count": 28,
   "id": "f29d51a9",
   "metadata": {},
   "outputs": [
    {
     "name": "stdout",
     "output_type": "stream",
     "text": [
      "The product being discussed is the **Apple MacBook AIR Apple M2**. \n",
      "\n"
     ]
    }
   ],
   "source": [
    "print(chain.invoke({'question':'What is the prodcut that we are talking about?', 'text':docs[0].page_content}))"
   ]
  }
 ],
 "metadata": {
  "kernelspec": {
   "display_name": "Python 3",
   "language": "python",
   "name": "python3"
  },
  "language_info": {
   "codemirror_mode": {
    "name": "ipython",
    "version": 3
   },
   "file_extension": ".py",
   "mimetype": "text/x-python",
   "name": "python",
   "nbconvert_exporter": "python",
   "pygments_lexer": "ipython3",
   "version": "3.10.0"
  }
 },
 "nbformat": 4,
 "nbformat_minor": 5
}
