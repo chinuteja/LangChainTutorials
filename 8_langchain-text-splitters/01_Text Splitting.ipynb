{
 "cells": [
  {
   "cell_type": "markdown",
   "id": "11946a59",
   "metadata": {},
   "source": [
    "## Importing Modules"
   ]
  },
  {
   "cell_type": "code",
   "execution_count": 2,
   "id": "5c309a74",
   "metadata": {},
   "outputs": [
    {
     "data": {
      "text/plain": [
       "True"
      ]
     },
     "execution_count": 2,
     "metadata": {},
     "output_type": "execute_result"
    }
   ],
   "source": [
    "from langchain.text_splitter import CharacterTextSplitter\n",
    "from langchain_community.document_loaders import PyPDFLoader\n",
    "from langchain.text_splitter import RecursiveCharacterTextSplitter,Language,RecursiveCharacterTextSplitter\n",
    "from langchain_experimental.text_splitter import SemanticChunker\n",
    "from langchain_openai.embeddings import OpenAIEmbeddings\n",
    "from dotenv import load_dotenv\n",
    "\n",
    "load_dotenv()"
   ]
  },
  {
   "cell_type": "markdown",
   "id": "fedb1647",
   "metadata": {},
   "source": [
    "## Length based Splitting"
   ]
  },
  {
   "cell_type": "code",
   "execution_count": 3,
   "id": "249c7a1e",
   "metadata": {},
   "outputs": [],
   "source": [
    "loader = PyPDFLoader('dl-curriculum.pdf')\n",
    "\n",
    "docs = loader.load()\n",
    "\n",
    "splitter = CharacterTextSplitter(\n",
    "    chunk_size=200,\n",
    "    chunk_overlap=0,\n",
    "    separator=''\n",
    ")\n",
    "\n",
    "result = splitter.split_documents(docs)"
   ]
  },
  {
   "cell_type": "code",
   "execution_count": 4,
   "id": "6b7b1f8c",
   "metadata": {},
   "outputs": [
    {
     "name": "stdout",
     "output_type": "stream",
     "text": [
      "[Document(metadata={'producer': 'Skia/PDF m131 Google Docs Renderer', 'creator': 'PyPDF', 'creationdate': '', 'title': 'Deep Learning Curriculum', 'source': 'dl-curriculum.pdf', 'total_pages': 23, 'page': 0, 'page_label': '1'}, page_content='CampusXDeepLearningCurriculum\\nA.ArtificialNeuralNetworkandhowtoimprovethem\\n1.BiologicalInspiration\\n● Understandingtheneuronstructure● Synapsesandsignaltransmission● Howbiologicalconceptstranslatetoart'), Document(metadata={'producer': 'Skia/PDF m131 Google Docs Renderer', 'creator': 'PyPDF', 'creationdate': '', 'title': 'Deep Learning Curriculum', 'source': 'dl-curriculum.pdf', 'total_pages': 23, 'page': 0, 'page_label': '1'}, page_content='ificialneurons\\n2.HistoryofNeuralNetworks\\n● Earlymodels(Perceptron)● BackpropagationandMLPs● The\"AIWinter\"andresurgenceofneuralnetworks● Emergenceofdeeplearning\\n3.PerceptronandMultilayerPerceptrons(MLP'), Document(metadata={'producer': 'Skia/PDF m131 Google Docs Renderer', 'creator': 'PyPDF', 'creationdate': '', 'title': 'Deep Learning Curriculum', 'source': 'dl-curriculum.pdf', 'total_pages': 23, 'page': 0, 'page_label': '1'}, page_content=')\\n● Single-layerperceptronlimitations● XORproblemandtheneedforhiddenlayers● MLParchitecture\\n4. LayersandTheirFunctions\\n● InputLayer○ Acceptinginputdata● HiddenLayers○ Featureextraction● OutputLayer○ P'), Document(metadata={'producer': 'Skia/PDF m131 Google Docs Renderer', 'creator': 'PyPDF', 'creationdate': '', 'title': 'Deep Learning Curriculum', 'source': 'dl-curriculum.pdf', 'total_pages': 23, 'page': 0, 'page_label': '1'}, page_content='roducingfinalpredictions\\n5.ActivationFunctions'), Document(metadata={'producer': 'Skia/PDF m131 Google Docs Renderer', 'creator': 'PyPDF', 'creationdate': '', 'title': 'Deep Learning Curriculum', 'source': 'dl-curriculum.pdf', 'total_pages': 23, 'page': 1, 'page_label': '2'}, page_content='● SigmoidFunction○ Characteristicsandlimitations● HyperbolicTangent(tanh)○ Comparisonwithsigmoid● ReLU(RectifiedLinearUnit)○ Advantagesinmitigatingvanishinggradients● LeakyReLUandParametricReLU○ Addre'), Document(metadata={'producer': 'Skia/PDF m131 Google Docs Renderer', 'creator': 'PyPDF', 'creationdate': '', 'title': 'Deep Learning Curriculum', 'source': 'dl-curriculum.pdf', 'total_pages': 23, 'page': 1, 'page_label': '2'}, page_content='ssingthedyingReLUproblem● SoftmaxFunction○ Multi-classclassificationoutputs\\n6.ForwardPropagation\\n● Mathematicalcomputationsateachneuron● Passinginputsthroughthenetworktogenerateoutputs\\n7.LossFunctions'), Document(metadata={'producer': 'Skia/PDF m131 Google Docs Renderer', 'creator': 'PyPDF', 'creationdate': '', 'title': 'Deep Learning Curriculum', 'source': 'dl-curriculum.pdf', 'total_pages': 23, 'page': 1, 'page_label': '2'}, page_content='● MeanSquaredError(MSE)○ Usedinregressiontasks● Cross-EntropyLoss○ Usedinclassificationtasks● HingeLoss○ UsedwithSVMs● Selectingappropriatelossfunctionsbasedontasks\\n8.Backpropagation\\n● Derivationusin'), Document(metadata={'producer': 'Skia/PDF m131 Google Docs Renderer', 'creator': 'PyPDF', 'creationdate': '', 'title': 'Deep Learning Curriculum', 'source': 'dl-curriculum.pdf', 'total_pages': 23, 'page': 1, 'page_label': '2'}, page_content='gthechainrule● Computinggradientsforeachlayer● Updatingweightsandbiases● Understandingcomputationalgraphs\\n9.GradientDescentVariants\\n● BatchGradientDescent○ Prosandcons'), Document(metadata={'producer': 'Skia/PDF m131 Google Docs Renderer', 'creator': 'PyPDF', 'creationdate': '', 'title': 'Deep Learning Curriculum', 'source': 'dl-curriculum.pdf', 'total_pages': 23, 'page': 2, 'page_label': '3'}, page_content='● StochasticGradientDescent(SGD)○ Advantagesinlargedatasets● Mini-BatchGradientDescent○ BalancingbetweenbatchandSGD\\n10.OptimizationAlgorithms\\n● Momentum○ AcceleratingSGD● NesterovAcceleratedGradient○'), Document(metadata={'producer': 'Skia/PDF m131 Google Docs Renderer', 'creator': 'PyPDF', 'creationdate': '', 'title': 'Deep Learning Curriculum', 'source': 'dl-curriculum.pdf', 'total_pages': 23, 'page': 2, 'page_label': '3'}, page_content=\"Lookingaheadtothefutureposition● AdaGrad○ Adaptivelearningrates● RMSProp○ FixingAdaGrad'sdiminishinglearningrates● Adam○ CombiningmomentumandRMSProp\\n11.RegularizationTechniques\\n● L1andL2Regularization\"), Document(metadata={'producer': 'Skia/PDF m131 Google Docs Renderer', 'creator': 'PyPDF', 'creationdate': '', 'title': 'Deep Learning Curriculum', 'source': 'dl-curriculum.pdf', 'total_pages': 23, 'page': 2, 'page_label': '3'}, page_content='○ Addingpenaltytermstothelossfunction● Dropout○ Preventingoverfittingbyrandomlydroppingneurons● EarlyStopping○ Haltingtrainingwhenvalidationlossincreases\\n12.HyperparameterTuning\\n● LearningRate○ Impact'), Document(metadata={'producer': 'Skia/PDF m131 Google Docs Renderer', 'creator': 'PyPDF', 'creationdate': '', 'title': 'Deep Learning Curriculum', 'source': 'dl-curriculum.pdf', 'total_pages': 23, 'page': 2, 'page_label': '3'}, page_content='onconvergence● BatchSize○ Trade-offsbetweenspeedandstability● NumberofEpochs○ Avoidingoverfitting● NetworkArchitecture'), Document(metadata={'producer': 'Skia/PDF m131 Google Docs Renderer', 'creator': 'PyPDF', 'creationdate': '', 'title': 'Deep Learning Curriculum', 'source': 'dl-curriculum.pdf', 'total_pages': 23, 'page': 3, 'page_label': '4'}, page_content='○ Decidingdepthandwidth● Techniques:○ Gridsearch○ RandomSearch○ Bayesianoptimization\\n13.VanishingandExplodingGradients\\n● Problemsindeepnetworks● Solutions:○ Properweightinitialization○ UseofReLUactiva'), Document(metadata={'producer': 'Skia/PDF m131 Google Docs Renderer', 'creator': 'PyPDF', 'creationdate': '', 'title': 'Deep Learning Curriculum', 'source': 'dl-curriculum.pdf', 'total_pages': 23, 'page': 3, 'page_label': '4'}, page_content='tionfunctions\\n14.WeightInitializationStrategies\\n● Xavier/GlorotInitialization● HeInitialization\\n15.BatchNormalization\\n● Normalizinginputsofeachlayer● Acceleratingtraining● Reducingdependenceoninitiali'), Document(metadata={'producer': 'Skia/PDF m131 Google Docs Renderer', 'creator': 'PyPDF', 'creationdate': '', 'title': 'Deep Learning Curriculum', 'source': 'dl-curriculum.pdf', 'total_pages': 23, 'page': 3, 'page_label': '4'}, page_content='zation\\nB.ConvolutionNeuralNetworks\\n1.ChallengeswithMLPsforImageData\\n● Highdimensionality● Lackofspatialinvariance\\n2.AdvantagesofCNNs\\n● Parametersharing● Localconnectivity'), Document(metadata={'producer': 'Skia/PDF m131 Google Docs Renderer', 'creator': 'PyPDF', 'creationdate': '', 'title': 'Deep Learning Curriculum', 'source': 'dl-curriculum.pdf', 'total_pages': 23, 'page': 4, 'page_label': '5'}, page_content='3.ConvolutionOperation\\n● UnderstandingKernels/Filters○ Edgedetectionfilters○ Featureextraction● MathematicalRepresentation○ Convolutionin2Dand3D● Hyperparameters○ Kernelsize,depth● StrideandPadding○ C'), Document(metadata={'producer': 'Skia/PDF m131 Google Docs Renderer', 'creator': 'PyPDF', 'creationdate': '', 'title': 'Deep Learning Curriculum', 'source': 'dl-curriculum.pdf', 'total_pages': 23, 'page': 4, 'page_label': '5'}, page_content='ontrollingoutputdimensions○ Typesofpadding:samevs.valid\\n4.ActivationFunctions\\n● ReLU(RectifiedLinearUnit)○ Advantagesoversigmoid/tanh● Variants○ LeakyReLU○ ELU(ExponentialLinearUnit)\\n5.PoolingLayers\\n●'), Document(metadata={'producer': 'Skia/PDF m131 Google Docs Renderer', 'creator': 'PyPDF', 'creationdate': '', 'title': 'Deep Learning Curriculum', 'source': 'dl-curriculum.pdf', 'total_pages': 23, 'page': 4, 'page_label': '5'}, page_content='Purpose○ Dimensionalityreduction○ Translationinvariance● TypesofPooling○ Maxpooling○ Averagepooling● PoolingSizeandStride\\n6.FullyConnectedLayers\\n● TransitionfromConvolutionalLayers● Flattening○ Conve'), Document(metadata={'producer': 'Skia/PDF m131 Google Docs Renderer', 'creator': 'PyPDF', 'creationdate': '', 'title': 'Deep Learning Curriculum', 'source': 'dl-curriculum.pdf', 'total_pages': 23, 'page': 4, 'page_label': '5'}, page_content='rting2Dfeaturesto1D'), Document(metadata={'producer': 'Skia/PDF m131 Google Docs Renderer', 'creator': 'PyPDF', 'creationdate': '', 'title': 'Deep Learning Curriculum', 'source': 'dl-curriculum.pdf', 'total_pages': 23, 'page': 5, 'page_label': '6'}, page_content='7.LossFunctions\\n● Cross-EntropyLossforClassification● MeanSquaredErrorforRegression\\n8.CNNArchitecture\\nLayerStacking\\n● Convolutional ->Activation->Pooling\\nFeatureMaps\\n● Understandingdepthandchannels\\nVi'), Document(metadata={'producer': 'Skia/PDF m131 Google Docs Renderer', 'creator': 'PyPDF', 'creationdate': '', 'title': 'Deep Learning Curriculum', 'source': 'dl-curriculum.pdf', 'total_pages': 23, 'page': 5, 'page_label': '6'}, page_content='sualization\\n● Interpretinglearnedfeatures\\n9. DataPreprocessingTechniques-DataNormalization\\n● ScalingPixelValues○ 0-1normalization○ Standardization(z-score)\\n10.DataPreprocessingTechniques-DataAugmentat'), Document(metadata={'producer': 'Skia/PDF m131 Google Docs Renderer', 'creator': 'PyPDF', 'creationdate': '', 'title': 'Deep Learning Curriculum', 'source': 'dl-curriculum.pdf', 'total_pages': 23, 'page': 5, 'page_label': '6'}, page_content='ion\\n● Techniques○ Rotation,flipping,cropping○ Colorjitter,noiseaddition● Purpose○ Reducingoverfitting○ Increasingdatasetdiversity\\nCNNArchitecturesandInnovations\\n11.LeNet-5\\n● ArchitectureDetails'), Document(metadata={'producer': 'Skia/PDF m131 Google Docs Renderer', 'creator': 'PyPDF', 'creationdate': '', 'title': 'Deep Learning Curriculum', 'source': 'dl-curriculum.pdf', 'total_pages': 23, 'page': 6, 'page_label': '7'}, page_content='○ Layers,activations● Contributions○ Handwrittendigitrecognition\\n12.AlexNet\\n● Breakthroughs○ Deepernetwork○ UseofReLU● ImpactonImageNetChallenge\\n13.VGGNetworks\\n● VGG-16andVGG-19● DesignPhilosophy○ Usi'), Document(metadata={'producer': 'Skia/PDF m131 Google Docs Renderer', 'creator': 'PyPDF', 'creationdate': '', 'title': 'Deep Learning Curriculum', 'source': 'dl-curriculum.pdf', 'total_pages': 23, 'page': 6, 'page_label': '7'}, page_content='ngsmallfilters(3x3)○ Deepbutuniformarchitecture\\n14.InceptionNetworks(GoogLeNet)\\n● InceptionModules○ Parallelconvolutionallayers● Motivation○ Efficientcomputation\\n15.ResNet(ResidualNetworks)\\n● Residual'), Document(metadata={'producer': 'Skia/PDF m131 Google Docs Renderer', 'creator': 'PyPDF', 'creationdate': '', 'title': 'Deep Learning Curriculum', 'source': 'dl-curriculum.pdf', 'total_pages': 23, 'page': 6, 'page_label': '7'}, page_content='Blocks○ Identitymappings○ Shortcutconnections● SolvingVanishingGradientProblem● Variants○ ResNet-50,ResNet-101\\n16.MobileNets\\n● DepthwiseSeparableConvolutions'), Document(metadata={'producer': 'Skia/PDF m131 Google Docs Renderer', 'creator': 'PyPDF', 'creationdate': '', 'title': 'Deep Learning Curriculum', 'source': 'dl-curriculum.pdf', 'total_pages': 23, 'page': 7, 'page_label': '8'}, page_content='● OptimizationsforMobileDevices\\n17.Pre-trainedModels&TransferLearning\\n● UsingModelsTrainedonImageNet● Fine-Tuningvs.FeatureExtraction\\nObjectDetectionandLocalization\\n18.TraditionalMethods\\n● SlidingWind'), Document(metadata={'producer': 'Skia/PDF m131 Google Docs Renderer', 'creator': 'PyPDF', 'creationdate': '', 'title': 'Deep Learning Curriculum', 'source': 'dl-curriculum.pdf', 'total_pages': 23, 'page': 7, 'page_label': '8'}, page_content='owApproach\\n19.ModernArchitecture\\n● Region-BasedCNNs(R-CNN)○ R-CNN○ FastR-CNN○ FasterR-CNN● YouOnlyLookOnce(YOLO)● SingleShotMultiBoxDetector(SSD)● MaskR-CNN○ Instancesegmentation\\nSemanticSegmentation'), Document(metadata={'producer': 'Skia/PDF m131 Google Docs Renderer', 'creator': 'PyPDF', 'creationdate': '', 'title': 'Deep Learning Curriculum', 'source': 'dl-curriculum.pdf', 'total_pages': 23, 'page': 7, 'page_label': '8'}, page_content='20.FullyConvolutionalNetworks(FCN)\\n● ReplacingFullyConnectedLayers\\n21.U-Net\\n● Encoder-DecoderArchitecture● SkipConnections\\nGenerativeModelswithCNNs\\n22.Autoencoders'), Document(metadata={'producer': 'Skia/PDF m131 Google Docs Renderer', 'creator': 'PyPDF', 'creationdate': '', 'title': 'Deep Learning Curriculum', 'source': 'dl-curriculum.pdf', 'total_pages': 23, 'page': 8, 'page_label': '9'}, page_content='● ConvolutionalAutoencoders○ Imagereconstruction● VariationalAutoencoders(VAE)\\n23.GenerativeAdversarialNetworks(GANs)\\n● DCGAN○ UsingCNNsinGANs● Applications○ Imagegeneration○ Super-resolution\\nC.Recurr'), Document(metadata={'producer': 'Skia/PDF m131 Google Docs Renderer', 'creator': 'PyPDF', 'creationdate': '', 'title': 'Deep Learning Curriculum', 'source': 'dl-curriculum.pdf', 'total_pages': 23, 'page': 8, 'page_label': '9'}, page_content='entNeuralNetworks\\n1.ArchitectureofRNNs\\n● SequentialDataChallenges● BasicRNNStructure● MathematicalFormulation● ActivationFunctions\\n2.ForwardPropagationThroughTime\\n● SequenceInputProcessing○ Handlingva'), Document(metadata={'producer': 'Skia/PDF m131 Google Docs Renderer', 'creator': 'PyPDF', 'creationdate': '', 'title': 'Deep Learning Curriculum', 'source': 'dl-curriculum.pdf', 'total_pages': 23, 'page': 8, 'page_label': '9'}, page_content='riable-lengthsequences● OutputGeneration○ Ateachtimesteporaftertheentiresequence\\n3.BackpropagationThroughTime(BPTT)\\n● UnfoldingtheRNN○ TreatingRNNasadeepnetworkovertime● CalculatingGradients○ Applying'), Document(metadata={'producer': 'Skia/PDF m131 Google Docs Renderer', 'creator': 'PyPDF', 'creationdate': '', 'title': 'Deep Learning Curriculum', 'source': 'dl-curriculum.pdf', 'total_pages': 23, 'page': 8, 'page_label': '9'}, page_content='thechainrulethroughtimesteps● ComputationalComplexity○ Memoryandcomputationconsiderations'), Document(metadata={'producer': 'Skia/PDF m131 Google Docs Renderer', 'creator': 'PyPDF', 'creationdate': '', 'title': 'Deep Learning Curriculum', 'source': 'dl-curriculum.pdf', 'total_pages': 23, 'page': 9, 'page_label': '10'}, page_content='4.ChallengesinTrainingRNNs\\n● VanishingGradients○ Gradientsdiminishoverlongsequences● ExplodingGradients○ Gradientsgrowexponentially● Solutions○ Gradientclipping○ Advancedarchitectures(e.g.,LSTMs,GRUs)'), Document(metadata={'producer': 'Skia/PDF m131 Google Docs Renderer', 'creator': 'PyPDF', 'creationdate': '', 'title': 'Deep Learning Curriculum', 'source': 'dl-curriculum.pdf', 'total_pages': 23, 'page': 9, 'page_label': '10'}, page_content='5.LSTM\\n● LSTMcorecomponents● GatesinLSTM● IntuitionBehindLSTMs● BackpropagationThroughTime\\n6.GRU\\n○ GRUcorecomponents○ GatesinGRU○ IntuitionBehindGRU○ BackpropagationinGRUs○ GRUvsLSTM\\n6.DeepRNNs\\n○ Sta'), Document(metadata={'producer': 'Skia/PDF m131 Google Docs Renderer', 'creator': 'PyPDF', 'creationdate': '', 'title': 'Deep Learning Curriculum', 'source': 'dl-curriculum.pdf', 'total_pages': 23, 'page': 9, 'page_label': '10'}, page_content='ckingRNNlayers○ VanishingandExplodingGradientsinDeepRNNs○ UsingLSTMandGRU○ SolutionandtechniquestoovercomeVGPandEGP○ ResidualConnections○ Regularization\\n7.BidirectionalRNNs\\n○ MotivationbehindBidirecti'), Document(metadata={'producer': 'Skia/PDF m131 Google Docs Renderer', 'creator': 'PyPDF', 'creationdate': '', 'title': 'Deep Learning Curriculum', 'source': 'dl-curriculum.pdf', 'total_pages': 23, 'page': 9, 'page_label': '10'}, page_content='onalRNNs'), Document(metadata={'producer': 'Skia/PDF m131 Google Docs Renderer', 'creator': 'PyPDF', 'creationdate': '', 'title': 'Deep Learning Curriculum', 'source': 'dl-curriculum.pdf', 'total_pages': 23, 'page': 10, 'page_label': '11'}, page_content='○ BidirectionalRNNarchitecture○ ForwardandBackwardpass○ Combiningoutputs○ BidirectionalLSTM\\n8.ApplicationsofRNNs\\n○ Languagemodeling-Nextwordprediction○ SentimentAnalysis○ POSTagging○ Timeseriesforecas'), Document(metadata={'producer': 'Skia/PDF m131 Google Docs Renderer', 'creator': 'PyPDF', 'creationdate': '', 'title': 'Deep Learning Curriculum', 'source': 'dl-curriculum.pdf', 'total_pages': 23, 'page': 10, 'page_label': '11'}, page_content='ting\\nSeq2SeqNetworks\\n1.Encoder-DecoderNetworks\\nA.IntroductiontoEncoder-DecoderArchitecture\\n● PurposeandMotivation○ Handlingvariable-lengthinputandoutputsequences.○ Essentialfortaskslikemachinetranslat'), Document(metadata={'producer': 'Skia/PDF m131 Google Docs Renderer', 'creator': 'PyPDF', 'creationdate': '', 'title': 'Deep Learning Curriculum', 'source': 'dl-curriculum.pdf', 'total_pages': 23, 'page': 10, 'page_label': '11'}, page_content='ion,textsummarization,andspeechrecognition.\\nB.ComponentsofEncoder-DecoderNetworks\\n● Encoder○ Processestheinputsequenceandencodesitintoafixed-lengthcontextvector.○ Architecture:TypicallyusesRecurrentNe'), Document(metadata={'producer': 'Skia/PDF m131 Google Docs Renderer', 'creator': 'PyPDF', 'creationdate': '', 'title': 'Deep Learning Curriculum', 'source': 'dl-curriculum.pdf', 'total_pages': 23, 'page': 10, 'page_label': '11'}, page_content='uralNetworks(RNNs),LongShort-TermMemory(LSTM),orGatedRecurrentUnits(GRUs).'), Document(metadata={'producer': 'Skia/PDF m131 Google Docs Renderer', 'creator': 'PyPDF', 'creationdate': '', 'title': 'Deep Learning Curriculum', 'source': 'dl-curriculum.pdf', 'total_pages': 23, 'page': 11, 'page_label': '12'}, page_content='● Decoder○ Generatestheoutputsequencefromthecontextvector.○ Architecture:Similartotheencoderbutfocusesonproducingoutputs.\\nC.MathematicalFormulation\\n● EncoderandDecoder Equations\\nD.ImplementationDetail'), Document(metadata={'producer': 'Skia/PDF m131 Google Docs Renderer', 'creator': 'PyPDF', 'creationdate': '', 'title': 'Deep Learning Curriculum', 'source': 'dl-curriculum.pdf', 'total_pages': 23, 'page': 11, 'page_label': '12'}, page_content='s\\n● HandlingVariable-LengthSequences○ Padding:Addingzerostosequencestoensureuniformlength.○ Masking:Ignoringpaddedelementsduringcomputation.● LossFunctions○ Cross-EntropyLoss:Commonlyusedforclassifica'), Document(metadata={'producer': 'Skia/PDF m131 Google Docs Renderer', 'creator': 'PyPDF', 'creationdate': '', 'title': 'Deep Learning Curriculum', 'source': 'dl-curriculum.pdf', 'total_pages': 23, 'page': 11, 'page_label': '12'}, page_content='tiontasksateachtimestep.● TrainingTechniques○ TeacherForcing:Usingtheactualoutputasthenextinputduringtrainingtospeedupconvergence.\\nE.LimitationsofBasicEncoder-DecoderModels\\n● Fixed-LengthContextVector'), Document(metadata={'producer': 'Skia/PDF m131 Google Docs Renderer', 'creator': 'PyPDF', 'creationdate': '', 'title': 'Deep Learning Curriculum', 'source': 'dl-curriculum.pdf', 'total_pages': 23, 'page': 11, 'page_label': '12'}, page_content='Bottleneck○ Difficultyincapturingallnecessaryinformationfromlonginputsequences.● SolutionOverview○ Introductionofattentionmechanismstoallowthemodeltofocusonrelevantpartsoftheinputsequence.\\n2.Attention'), Document(metadata={'producer': 'Skia/PDF m131 Google Docs Renderer', 'creator': 'PyPDF', 'creationdate': '', 'title': 'Deep Learning Curriculum', 'source': 'dl-curriculum.pdf', 'total_pages': 23, 'page': 11, 'page_label': '12'}, page_content='MechanismsandTheirTypes\\nA.MotivationforAttention'), Document(metadata={'producer': 'Skia/PDF m131 Google Docs Renderer', 'creator': 'PyPDF', 'creationdate': '', 'title': 'Deep Learning Curriculum', 'source': 'dl-curriculum.pdf', 'total_pages': 23, 'page': 12, 'page_label': '13'}, page_content='● OvercomingtheBottleneck○ Attentionallowsthemodeltoaccessallencoderhiddenstatesratherthancompressingallinformationintoasinglecontextvector.● Benefits○ Improvedperformanceonlongsequences.○ Enhancedabi'), Document(metadata={'producer': 'Skia/PDF m131 Google Docs Renderer', 'creator': 'PyPDF', 'creationdate': '', 'title': 'Deep Learning Curriculum', 'source': 'dl-curriculum.pdf', 'total_pages': 23, 'page': 12, 'page_label': '13'}, page_content='litytocapturealignmentbetweeninputandoutputsequences.\\nB.TypesofAttentionMechanisms\\n1.AdditiveAttention(BahdanauAttention)\\n● Concept○ Calculatesalignmentscoresusingafeedforwardnetwork● Characteristics○'), Document(metadata={'producer': 'Skia/PDF m131 Google Docs Renderer', 'creator': 'PyPDF', 'creationdate': '', 'title': 'Deep Learning Curriculum', 'source': 'dl-curriculum.pdf', 'total_pages': 23, 'page': 12, 'page_label': '13'}, page_content='Consideredmorecomputationallyintensiveduetoadditionalparameters.\\n2.MultiplicativeAttention(LuongAttention)\\n● Concept○ Calculatesalignmentscoresusingdotproducts.○ ScaledDotProduct:Adjustsfordimensiona'), Document(metadata={'producer': 'Skia/PDF m131 Google Docs Renderer', 'creator': 'PyPDF', 'creationdate': '', 'title': 'Deep Learning Curriculum', 'source': 'dl-curriculum.pdf', 'total_pages': 23, 'page': 12, 'page_label': '13'}, page_content='lity.● Characteristics○ Moreefficientthanadditiveattention.\\nC.AttentionMechanismSteps\\n1. CalculateAlignmentScores2. ComputeAttentionWeights3. ComputeContextVector4. UpdateDecoderState\\nD.ImplementingAt'), Document(metadata={'producer': 'Skia/PDF m131 Google Docs Renderer', 'creator': 'PyPDF', 'creationdate': '', 'title': 'Deep Learning Curriculum', 'source': 'dl-curriculum.pdf', 'total_pages': 23, 'page': 12, 'page_label': '13'}, page_content='tentioninSeq2SeqModels\\n● IntegrationwithDecoder'), Document(metadata={'producer': 'Skia/PDF m131 Google Docs Renderer', 'creator': 'PyPDF', 'creationdate': '', 'title': 'Deep Learning Curriculum', 'source': 'dl-curriculum.pdf', 'total_pages': 23, 'page': 13, 'page_label': '14'}, page_content='○ Modifythedecodertoincorporatethecontextvectorateachtimestep.● TrainingAdjustments○ Backpropagatethroughtheattentionmechanism.\\nE.VisualizationandInterpretation\\n● AttentionWeightsMatrix○ Visualizingwh'), Document(metadata={'producer': 'Skia/PDF m131 Google Docs Renderer', 'creator': 'PyPDF', 'creationdate': '', 'title': 'Deep Learning Curriculum', 'source': 'dl-curriculum.pdf', 'total_pages': 23, 'page': 13, 'page_label': '14'}, page_content='ichinputtokensthemodelattendstoduringeachoutputgenerationstep.● Applications○ Erroranalysis.○ Modelinterpretability.\\n3.TransformerArchitectures\\nA.LimitationsofRNN-BasedSeq2SeqModels\\n● SequentialProces'), Document(metadata={'producer': 'Skia/PDF m131 Google Docs Renderer', 'creator': 'PyPDF', 'creationdate': '', 'title': 'Deep Learning Curriculum', 'source': 'dl-curriculum.pdf', 'total_pages': 23, 'page': 13, 'page_label': '14'}, page_content='sing○ RNNsprocessinputssequentially,hinderingparallelization.● Long-TermDependencies○ Difficultyincapturingrelationshipsbetweendistanttokens.\\nB.IntroductiontoTransformers\\n● KeyInnovations○ Self-Attent'), Document(metadata={'producer': 'Skia/PDF m131 Google Docs Renderer', 'creator': 'PyPDF', 'creationdate': '', 'title': 'Deep Learning Curriculum', 'source': 'dl-curriculum.pdf', 'total_pages': 23, 'page': 13, 'page_label': '14'}, page_content='ionMechanism:Allowsthemodeltorelatedifferentpositionsofasinglesequencetocomputerepresentations.○ PositionalEncoding:Injectsinformationaboutthepositionofthetokensinthesequence.● Advantages○ Improvedpar'), Document(metadata={'producer': 'Skia/PDF m131 Google Docs Renderer', 'creator': 'PyPDF', 'creationdate': '', 'title': 'Deep Learning Curriculum', 'source': 'dl-curriculum.pdf', 'total_pages': 23, 'page': 13, 'page_label': '14'}, page_content='allelization.○ Betteratcapturingglobaldependencies.'), Document(metadata={'producer': 'Skia/PDF m131 Google Docs Renderer', 'creator': 'PyPDF', 'creationdate': '', 'title': 'Deep Learning Curriculum', 'source': 'dl-curriculum.pdf', 'total_pages': 23, 'page': 14, 'page_label': '15'}, page_content='C.ComponentsofTransformerArchitecture\\n1.Multi-HeadSelf-Attention\\n● Concept○ Multipleattentionmechanisms(heads)operatinginparallel.● Process○ Query(Q),Key(K),andValue(V)matricesarecomputedfrominputembe'), Document(metadata={'producer': 'Skia/PDF m131 Google Docs Renderer', 'creator': 'PyPDF', 'creationdate': '', 'title': 'Deep Learning Curriculum', 'source': 'dl-curriculum.pdf', 'total_pages': 23, 'page': 14, 'page_label': '15'}, page_content='ddings.○ Theattentionmechanismcalculatesaweightedsumofthevalues,withweightsderivedfromthequeriesandkeys.\\n2.PositionalEncoding\\n● Purpose○ Sincetransformersdonothaverecurrenceorconvolution,positionalenc'), Document(metadata={'producer': 'Skia/PDF m131 Google Docs Renderer', 'creator': 'PyPDF', 'creationdate': '', 'title': 'Deep Learning Curriculum', 'source': 'dl-curriculum.pdf', 'total_pages': 23, 'page': 14, 'page_label': '15'}, page_content='odingprovidesthemodelwithinformationaboutthepositionofeachtoken.● Techniques○ SinusoidalFunctions:○ LearnedEmbeddings\\n3.FeedforwardNetworks\\n● Architecture○ Position-wisefullyconnectedlayersappliedinde'), Document(metadata={'producer': 'Skia/PDF m131 Google Docs Renderer', 'creator': 'PyPDF', 'creationdate': '', 'title': 'Deep Learning Curriculum', 'source': 'dl-curriculum.pdf', 'total_pages': 23, 'page': 14, 'page_label': '15'}, page_content='pendentlytoeachposition.● ActivationFunctions○ TypicallyReLUorGELU.\\n4.LayerNormalization\\n● Purpose○ Normalizesinputsacrossthefeaturestostabilizeandacceleratetraining.\\n5.ResidualConnections'), Document(metadata={'producer': 'Skia/PDF m131 Google Docs Renderer', 'creator': 'PyPDF', 'creationdate': '', 'title': 'Deep Learning Curriculum', 'source': 'dl-curriculum.pdf', 'total_pages': 23, 'page': 15, 'page_label': '16'}, page_content='● Purpose○ Helpsintrainingdeepernetworksbymitigatingthevanishinggradientproblem.● Implementation○ Addingtheinputofalayertoitsoutputbeforeapplyingtheactivationfunction.\\nD.TransformerEncoder-DecoderStru'), Document(metadata={'producer': 'Skia/PDF m131 Google Docs Renderer', 'creator': 'PyPDF', 'creationdate': '', 'title': 'Deep Learning Curriculum', 'source': 'dl-curriculum.pdf', 'total_pages': 23, 'page': 15, 'page_label': '16'}, page_content='cture\\n● EncoderStack○ Composedofmultipleidenticallayers,eachcontaining:■ Multi-headself-attentionlayer.■ Feedforwardnetwork.● DecoderStack○ Similartotheencoderbutincludes:■ Maskedmulti-headself-attent'), Document(metadata={'producer': 'Skia/PDF m131 Google Docs Renderer', 'creator': 'PyPDF', 'creationdate': '', 'title': 'Deep Learning Curriculum', 'source': 'dl-curriculum.pdf', 'total_pages': 23, 'page': 15, 'page_label': '16'}, page_content='ionlayertopreventpositionsfromattendingtosubsequentpositions.■ Encoder-decoderattentionlayer.\\nE.ImplementingTransformers\\n● KeySteps○ EmbeddingLayer:Convertsinputtokensintodensevectors.○ AddingPosition'), Document(metadata={'producer': 'Skia/PDF m131 Google Docs Renderer', 'creator': 'PyPDF', 'creationdate': '', 'title': 'Deep Learning Curriculum', 'source': 'dl-curriculum.pdf', 'total_pages': 23, 'page': 15, 'page_label': '16'}, page_content='alEncoding:Combinespositionalinformationwithembeddings.○ BuildingEncoderandDecoderLayers:Stackmultiplelayersasperthearchitecture.○ OutputLayer:Generatesfinalpredictions,oftenfollowedbyasoftmaxfunction'), Document(metadata={'producer': 'Skia/PDF m131 Google Docs Renderer', 'creator': 'PyPDF', 'creationdate': '', 'title': 'Deep Learning Curriculum', 'source': 'dl-curriculum.pdf', 'total_pages': 23, 'page': 15, 'page_label': '16'}, page_content='.\\n4.TypesofTransformers\\nA.BERT(BidirectionalEncoderRepresentationsfromTransformers)'), Document(metadata={'producer': 'Skia/PDF m131 Google Docs Renderer', 'creator': 'PyPDF', 'creationdate': '', 'title': 'Deep Learning Curriculum', 'source': 'dl-curriculum.pdf', 'total_pages': 23, 'page': 16, 'page_label': '17'}, page_content='● Purpose○ Pre-trainingdeepbidirectionalrepresentationsbyjointlyconditioningonbothleftandrightcontext.● Architecture○ Usesonlytheencoderpartofthetransformer.● Pre-TrainingObjectives○ MaskedLanguageMod'), Document(metadata={'producer': 'Skia/PDF m131 Google Docs Renderer', 'creator': 'PyPDF', 'creationdate': '', 'title': 'Deep Learning Curriculum', 'source': 'dl-curriculum.pdf', 'total_pages': 23, 'page': 16, 'page_label': '17'}, page_content='eling(MLM):Predictingmaskedtokensintheinput.○ NextSentencePrediction(NSP):Predictingiftwosentencesfolloweachother.\\nB.GPT(GenerativePre-trainedTransformer)\\n● Purpose○ Focusedonlanguagegenerationtasks.●'), Document(metadata={'producer': 'Skia/PDF m131 Google Docs Renderer', 'creator': 'PyPDF', 'creationdate': '', 'title': 'Deep Learning Curriculum', 'source': 'dl-curriculum.pdf', 'total_pages': 23, 'page': 16, 'page_label': '17'}, page_content='Architecture○ Usesonlythedecoderpartofthetransformerwithmaskedself-attentiontopreventinformationflowfromfuturetokens.● TrainingObjective○ CausalLanguageModeling(CLM):Predictingthenextwordinasequence.'), Document(metadata={'producer': 'Skia/PDF m131 Google Docs Renderer', 'creator': 'PyPDF', 'creationdate': '', 'title': 'Deep Learning Curriculum', 'source': 'dl-curriculum.pdf', 'total_pages': 23, 'page': 16, 'page_label': '17'}, page_content='C.OtherNotableTransformers\\n● RoBERTa○ ImprovesonBERTbytrainingwithlargerbatchesandmoredata.● ALBERT○ Reducesmodelsizebysharingparametersandfactorizingembeddings.● T5(Text-to-TextTransferTransformer)○'), Document(metadata={'producer': 'Skia/PDF m131 Google Docs Renderer', 'creator': 'PyPDF', 'creationdate': '', 'title': 'Deep Learning Curriculum', 'source': 'dl-curriculum.pdf', 'total_pages': 23, 'page': 16, 'page_label': '17'}, page_content='TreatseveryNLPtaskasatext-to-textproblem.\\n5.Fine-TuningTransformers'), Document(metadata={'producer': 'Skia/PDF m131 Google Docs Renderer', 'creator': 'PyPDF', 'creationdate': '', 'title': 'Deep Learning Curriculum', 'source': 'dl-curriculum.pdf', 'total_pages': 23, 'page': 17, 'page_label': '18'}, page_content='A.ConceptofFine-Tuning\\n● TransferLearning○ Adaptingapre-trainedmodeltoadownstreamtaskwithtask-specificdata.\\nB.StepsinFine-Tuning\\n1. LoadingPre-TrainedModel○ Usepre-trainedweightsfrommodelslikeBERT,GPT'), Document(metadata={'producer': 'Skia/PDF m131 Google Docs Renderer', 'creator': 'PyPDF', 'creationdate': '', 'title': 'Deep Learning Curriculum', 'source': 'dl-curriculum.pdf', 'total_pages': 23, 'page': 17, 'page_label': '18'}, page_content=',etc.2. ModifyingOutputLayers○ Replacethefinallayertosuitthespecifictask(e.g.,classificationhead).3. AdjustingHyperparameters○ Learningrate,batchsize,numberofepochs.4. TrainingonTask-SpecificData○ Use'), Document(metadata={'producer': 'Skia/PDF m131 Google Docs Renderer', 'creator': 'PyPDF', 'creationdate': '', 'title': 'Deep Learning Curriculum', 'source': 'dl-curriculum.pdf', 'total_pages': 23, 'page': 17, 'page_label': '18'}, page_content='labeleddatarelevanttothetask.\\nC.BestPractices\\n● Layer-WiseLearningRates○ Applydifferentlearningratestodifferentlayers.● AvoidingCatastrophicForgetting○ Usesmallerlearningratestopreventthemodelfromlosi'), Document(metadata={'producer': 'Skia/PDF m131 Google Docs Renderer', 'creator': 'PyPDF', 'creationdate': '', 'title': 'Deep Learning Curriculum', 'source': 'dl-curriculum.pdf', 'total_pages': 23, 'page': 17, 'page_label': '18'}, page_content='ngpre-trainedknowledge.● RegularizationTechniques○ Dropout,weightdecay.\\nD.CommonFine-TuningTasks\\n● TextClassification● NamedEntityRecognition● QuestionAnswering● TextSummarization'), Document(metadata={'producer': 'Skia/PDF m131 Google Docs Renderer', 'creator': 'PyPDF', 'creationdate': '', 'title': 'Deep Learning Curriculum', 'source': 'dl-curriculum.pdf', 'total_pages': 23, 'page': 18, 'page_label': '19'}, page_content='6.Pre-TrainingTransformers\\nA.Pre-TrainingObjectives\\n● MaskedLanguageModeling(MLM)○ Predictingmaskedtokensintheinputsequence.● CausalLanguageModeling(CLM)○ Predictingthenexttokengiventheprevioustokens.'), Document(metadata={'producer': 'Skia/PDF m131 Google Docs Renderer', 'creator': 'PyPDF', 'creationdate': '', 'title': 'Deep Learning Curriculum', 'source': 'dl-curriculum.pdf', 'total_pages': 23, 'page': 18, 'page_label': '19'}, page_content='● Sequence-to-SequencePre-Training○ UsedinmodelslikeT5.\\nB.DataPreparation\\n● CorpusSelection○ Largeanddiversedatasets(e.g.,Wikipedia,CommonCrawl).● TokenizationStrategies○ WordPiece:UsedbyBERT.○ Byte-P'), Document(metadata={'producer': 'Skia/PDF m131 Google Docs Renderer', 'creator': 'PyPDF', 'creationdate': '', 'title': 'Deep Learning Curriculum', 'source': 'dl-curriculum.pdf', 'total_pages': 23, 'page': 18, 'page_label': '19'}, page_content='airEncoding(BPE):UsedbyGPT.\\nC.TrainingStrategies\\n● DistributedTraining○ UsingmultipleGPUsorTPUs.● MixedPrecisionTraining○ Reducesmemoryusageandincreasesspeed.● OptimizationAlgorithms○ Adamoptimizerwit'), Document(metadata={'producer': 'Skia/PDF m131 Google Docs Renderer', 'creator': 'PyPDF', 'creationdate': '', 'title': 'Deep Learning Curriculum', 'source': 'dl-curriculum.pdf', 'total_pages': 23, 'page': 18, 'page_label': '19'}, page_content='hweightdecay(AdamW).\\nD.ChallengesinPre-Training\\n● ComputeResources○ Requiressignificantcomputationalpower.● DataQuality○ Noisydatacanaffectmodelperformance.'), Document(metadata={'producer': 'Skia/PDF m131 Google Docs Renderer', 'creator': 'PyPDF', 'creationdate': '', 'title': 'Deep Learning Curriculum', 'source': 'dl-curriculum.pdf', 'total_pages': 23, 'page': 19, 'page_label': '20'}, page_content='E.EvaluationofPre-TrainedModels\\n● Benchmarking○ UsingdatasetslikeGLUE,SQuADtoassessperformance.● AblationStudies○ Understandingtheimpactofdifferentcomponents.\\n7.OptimizingTransformers\\nA.ComputationalC'), Document(metadata={'producer': 'Skia/PDF m131 Google Docs Renderer', 'creator': 'PyPDF', 'creationdate': '', 'title': 'Deep Learning Curriculum', 'source': 'dl-curriculum.pdf', 'total_pages': 23, 'page': 19, 'page_label': '20'}, page_content='hallenges\\n● HighMemoryConsumption○ Duetoself-attentionmechanisms.● LongTrainingTimes\\nB.OptimizationTechniques\\n1.EfficientAttentionMechanisms\\n● SparseAttention○ Reducesthenumberofcomputationsbyfocusing'), Document(metadata={'producer': 'Skia/PDF m131 Google Docs Renderer', 'creator': 'PyPDF', 'creationdate': '', 'title': 'Deep Learning Curriculum', 'source': 'dl-curriculum.pdf', 'total_pages': 23, 'page': 19, 'page_label': '20'}, page_content='onlocalpatterns.● LinearizedAttention(Linformer)○ Approximatesattentiontoreducecomplexity.● Reformer○ Useslocality-sensitivehashingtoreducecomplexity.\\n2.ModelCompression\\n● Quantization○ Reducingthepre'), Document(metadata={'producer': 'Skia/PDF m131 Google Docs Renderer', 'creator': 'PyPDF', 'creationdate': '', 'title': 'Deep Learning Curriculum', 'source': 'dl-curriculum.pdf', 'total_pages': 23, 'page': 19, 'page_label': '20'}, page_content='cisionofweights(e.g.,from32-bitto8-bit).● Pruning○ Removinglessimportantweightsorneurons.● KnowledgeDistillation'), Document(metadata={'producer': 'Skia/PDF m131 Google Docs Renderer', 'creator': 'PyPDF', 'creationdate': '', 'title': 'Deep Learning Curriculum', 'source': 'dl-curriculum.pdf', 'total_pages': 23, 'page': 20, 'page_label': '21'}, page_content='○ Trainingasmallermodel(student)toreplicatethebehaviorofalargermodel(teacher).\\nC.HardwareConsiderations\\n● GPUsvs.TPUs○ TPUscanofferfastercomputationfortensoroperations.● ParallelismStrategies○ DataPar'), Document(metadata={'producer': 'Skia/PDF m131 Google Docs Renderer', 'creator': 'PyPDF', 'creationdate': '', 'title': 'Deep Learning Curriculum', 'source': 'dl-curriculum.pdf', 'total_pages': 23, 'page': 20, 'page_label': '21'}, page_content=\"allelism■ Distributingdataacrossmultipledevices.○ ModelParallelism■ Distributingthemodel'slayersacrossdevices.\\nD.SoftwareTools\\n● OptimizedLibraries○ HuggingFaceTransformers:Providesoptimizedimplementa\"), Document(metadata={'producer': 'Skia/PDF m131 Google Docs Renderer', 'creator': 'PyPDF', 'creationdate': '', 'title': 'Deep Learning Curriculum', 'source': 'dl-curriculum.pdf', 'total_pages': 23, 'page': 20, 'page_label': '21'}, page_content='tions.○ DeepSpeed:Optimizesmemoryandcomputation.○ NVIDIAApex:Enablesmixedprecisiontraining.\\n8.NLPApplicationsUsingTransformers\\nA.TextClassification\\n● SentimentAnalysis○ Classifyingtextaspositive,negat'), Document(metadata={'producer': 'Skia/PDF m131 Google Docs Renderer', 'creator': 'PyPDF', 'creationdate': '', 'title': 'Deep Learning Curriculum', 'source': 'dl-curriculum.pdf', 'total_pages': 23, 'page': 20, 'page_label': '21'}, page_content='ive,orneutral.● TopicClassification○ Categorizingtextintopredefinedtopics.\\nB.QuestionAnswering\\n● ImplementingQASystems○ UsingmodelslikeBERTtofindanswerswithinacontext.'), Document(metadata={'producer': 'Skia/PDF m131 Google Docs Renderer', 'creator': 'PyPDF', 'creationdate': '', 'title': 'Deep Learning Curriculum', 'source': 'dl-curriculum.pdf', 'total_pages': 23, 'page': 21, 'page_label': '22'}, page_content='● Datasets○ SQuAD,TriviaQA.\\nC.MachineTranslation\\n● TransformerModels○ ImplementingtranslationsystemswithoutRNNs.● Datasets○ WMTdatasets.\\nD.TextSummarization\\n● AbstractiveSummarization○ Generatingconci'), Document(metadata={'producer': 'Skia/PDF m131 Google Docs Renderer', 'creator': 'PyPDF', 'creationdate': '', 'title': 'Deep Learning Curriculum', 'source': 'dl-curriculum.pdf', 'total_pages': 23, 'page': 21, 'page_label': '22'}, page_content='sesummariesusingmodelslikeT5.● Datasets○ CNN/DailyMail,Gigaword.\\nE.LanguageGeneration\\n● Chatbots○ CreatingconversationalagentsusingGPTmodels.● StoryGeneration○ Generatingcoherentnarratives.\\nF.NamedEnt'), Document(metadata={'producer': 'Skia/PDF m131 Google Docs Renderer', 'creator': 'PyPDF', 'creationdate': '', 'title': 'Deep Learning Curriculum', 'source': 'dl-curriculum.pdf', 'total_pages': 23, 'page': 21, 'page_label': '22'}, page_content='ityRecognition\\n● SequenceLabeling○ Identifyingentitieslikenames,locations,dates.● Fine-Tuning○ Adaptingpre-trainedmodelsforNERtasks.')]\n"
     ]
    }
   ],
   "source": [
    "print(result)"
   ]
  },
  {
   "cell_type": "code",
   "execution_count": 6,
   "id": "1fa90662",
   "metadata": {},
   "outputs": [
    {
     "name": "stdout",
     "output_type": "stream",
     "text": [
      "ificialneurons\n",
      "2.HistoryofNeuralNetworks\n",
      "● Earlymodels(Perceptron)● BackpropagationandMLPs● The\"AIWinter\"andresurgenceofneuralnetworks● Emergenceofdeeplearning\n",
      "3.PerceptronandMultilayerPerceptrons(MLP\n",
      "--------------------------------\n",
      ")\n",
      "● Single-layerperceptronlimitations● XORproblemandtheneedforhiddenlayers● MLParchitecture\n",
      "4. LayersandTheirFunctions\n",
      "● InputLayer○ Acceptinginputdata● HiddenLayers○ Featureextraction● OutputLayer○ P\n",
      "--------------------------------\n",
      "roducingfinalpredictions\n",
      "5.ActivationFunctions\n",
      "--------------------------------\n",
      "● SigmoidFunction○ Characteristicsandlimitations● HyperbolicTangent(tanh)○ Comparisonwithsigmoid● ReLU(RectifiedLinearUnit)○ Advantagesinmitigatingvanishinggradients● LeakyReLUandParametricReLU○ Addre\n",
      "--------------------------------\n",
      "ssingthedyingReLUproblem● SoftmaxFunction○ Multi-classclassificationoutputs\n",
      "6.ForwardPropagation\n",
      "● Mathematicalcomputationsateachneuron● Passinginputsthroughthenetworktogenerateoutputs\n",
      "7.LossFunctions\n",
      "--------------------------------\n",
      "● MeanSquaredError(MSE)○ Usedinregressiontasks● Cross-EntropyLoss○ Usedinclassificationtasks● HingeLoss○ UsedwithSVMs● Selectingappropriatelossfunctionsbasedontasks\n",
      "8.Backpropagation\n",
      "● Derivationusin\n"
     ]
    }
   ],
   "source": [
    "print(result[1].page_content)\n",
    "print(\"--------------------------------\")\n",
    "print(result[2].page_content)\n",
    "print(\"--------------------------------\")\n",
    "print(result[3].page_content)\n",
    "print(\"--------------------------------\")\n",
    "print(result[4].page_content)\n",
    "print(\"--------------------------------\")\n",
    "print(result[5].page_content)\n",
    "print(\"--------------------------------\")\n",
    "print(result[6].page_content)"
   ]
  },
  {
   "cell_type": "markdown",
   "id": "f5081903",
   "metadata": {},
   "source": [
    "Drawbacks:\n",
    "It doesn’t care about grammar, sematic meaning or linguistic structure. Text may get cut in between of word.<br> The embedding which gets generated after this kind of split will not be able to capture the entire sematic meaning. So we don’t use it much.\n"
   ]
  },
  {
   "cell_type": "markdown",
   "id": "d56b317d",
   "metadata": {},
   "source": [
    "## Text Structure Based split"
   ]
  },
  {
   "cell_type": "code",
   "execution_count": 9,
   "id": "ba6ae10b",
   "metadata": {},
   "outputs": [
    {
     "name": "stdout",
     "output_type": "stream",
     "text": [
      "7\n",
      "['Space exploration has led to incredible scientific discoveries. From landing on the Moon to', 'on the Moon to exploring Mars, humanity continues to push the boundaries of what’s possible beyond', 'possible beyond our planet.', 'These missions have not only expanded our knowledge of the universe but have also contributed to', 'also contributed to advancements in technology here on Earth. Satellite communications, GPS, and', 'GPS, and even certain medical imaging techniques trace their roots back to innovations driven by', 'driven by space programs.']\n"
     ]
    }
   ],
   "source": [
    "text = \"\"\"\n",
    "Space exploration has led to incredible scientific discoveries. From landing on the Moon to exploring Mars, humanity continues to push the boundaries of what’s possible beyond our planet.\n",
    "\n",
    "These missions have not only expanded our knowledge of the universe but have also contributed to advancements in technology here on Earth. Satellite communications, GPS, and even certain medical imaging techniques trace their roots back to innovations driven by space programs.\n",
    "\"\"\"\n",
    "\n",
    "# Initialize the splitter\n",
    "splitter = RecursiveCharacterTextSplitter(\n",
    "    chunk_size=100,\n",
    "    chunk_overlap=20, ## overlap must 20% of chunk size thumb ru;e\n",
    ")\n",
    "\n",
    "# Perform the split\n",
    "chunks = splitter.split_text(text)\n",
    "\n",
    "print(len(chunks))\n",
    "print(chunks)"
   ]
  },
  {
   "cell_type": "markdown",
   "id": "aa125d70",
   "metadata": {},
   "source": [
    "## Document Structured Splitter"
   ]
  },
  {
   "cell_type": "code",
   "execution_count": 10,
   "id": "19655346",
   "metadata": {},
   "outputs": [],
   "source": [
    "text = \"\"\"\n",
    "class Student:\n",
    "    def __init__(self, name, age, grade):\n",
    "        self.name = name\n",
    "        self.age = age\n",
    "        self.grade = grade  # Grade is a float (like 8.5 or 9.2)\n",
    "\n",
    "    def get_details(self):\n",
    "        return self.name\"\n",
    "\n",
    "    def is_passing(self):\n",
    "        return self.grade >= 6.0\n",
    "\n",
    "\n",
    "# Example usage\n",
    "student1 = Student(\"Aarav\", 20, 8.2)\n",
    "print(student1.get_details())\n",
    "\n",
    "if student1.is_passing():\n",
    "    print(\"The student is passing.\")\n",
    "else:\n",
    "    print(\"The student is not passing.\")\n",
    "\n",
    "\"\"\""
   ]
  },
  {
   "cell_type": "code",
   "execution_count": 12,
   "id": "23ca040b",
   "metadata": {},
   "outputs": [
    {
     "name": "stdout",
     "output_type": "stream",
     "text": [
      "2\n",
      "--------------------------------\n",
      "class Student:\n",
      "    def __init__(self, name, age, grade):\n",
      "        self.name = name\n",
      "        self.age = age\n",
      "        self.grade = grade  # Grade is a float (like 8.5 or 9.2)\n",
      "\n",
      "    def get_details(self):\n",
      "        return self.name\"\n",
      "\n",
      "    def is_passing(self):\n",
      "        return self.grade >= 6.0\n",
      "--------------------------------\n",
      "# Example usage\n",
      "student1 = Student(\"Aarav\", 20, 8.2)\n",
      "print(student1.get_details())\n",
      "\n",
      "if student1.is_passing():\n",
      "    print(\"The student is passing.\")\n",
      "else:\n",
      "    print(\"The student is not passing.\")\n"
     ]
    }
   ],
   "source": [
    "# Initialize the splitter\n",
    "splitter = RecursiveCharacterTextSplitter.from_language(\n",
    "    language=Language.PYTHON, ## givign language as python\n",
    "    chunk_size=300,\n",
    "    chunk_overlap=0,\n",
    ")\n",
    "\n",
    "# Perform the split\n",
    "chunks = splitter.split_text(text)\n",
    "\n",
    "print(len(chunks))\n",
    "print(\"--------------------------------\")\n",
    "print(chunks[0])\n",
    "print(\"--------------------------------\")\n",
    "print(chunks[1])"
   ]
  },
  {
   "cell_type": "markdown",
   "id": "825e4d1b",
   "metadata": {},
   "source": [
    "## Semantic Meaning Based"
   ]
  },
  {
   "cell_type": "code",
   "execution_count": null,
   "id": "595dae61",
   "metadata": {},
   "outputs": [],
   "source": [
    "text_splitter = SemanticChunker(\n",
    "    OpenAIEmbeddings(), breakpoint_threshold_type=\"standard_deviation\",\n",
    "    breakpoint_threshold_amount=3\n",
    ")\n",
    "\n",
    "sample = \"\"\"\n",
    "Farmers were working hard in the fields, preparing the soil and planting seeds for the next season. The sun was bright, and the air smelled of earth and fresh grass. The Indian Premier League (IPL) is the biggest cricket league in the world. People all over the world watch the matches and cheer for their favourite teams.\n",
    "\n",
    "\n",
    "Terrorism is a big danger to peace and safety. It causes harm to people and creates fear in cities and villages. When such attacks happen, they leave behind pain and sadness. To fight terrorism, we need strong laws, alert security forces, and support from people who care about peace and safety.\n",
    "\"\"\"\n",
    "\n",
    "docs = text_splitter.create_documents([sample])\n",
    "print(len(docs))\n",
    "print(docs)"
   ]
  }
 ],
 "metadata": {
  "kernelspec": {
   "display_name": "Python 3",
   "language": "python",
   "name": "python3"
  },
  "language_info": {
   "codemirror_mode": {
    "name": "ipython",
    "version": 3
   },
   "file_extension": ".py",
   "mimetype": "text/x-python",
   "name": "python",
   "nbconvert_exporter": "python",
   "pygments_lexer": "ipython3",
   "version": "3.10.0"
  }
 },
 "nbformat": 4,
 "nbformat_minor": 5
}
