{
 "cells": [
  {
   "cell_type": "markdown",
   "id": "b15afa17",
   "metadata": {},
   "source": [
    "## Importing Modules"
   ]
  },
  {
   "cell_type": "code",
   "execution_count": 35,
   "id": "894f25bd",
   "metadata": {},
   "outputs": [
    {
     "data": {
      "text/plain": [
       "True"
      ]
     },
     "execution_count": 35,
     "metadata": {},
     "output_type": "execute_result"
    }
   ],
   "source": [
    "from langchain_openai import ChatOpenAI\n",
    "from langchain_core.messages import SystemMessage, HumanMessage, AIMessage\n",
    "from dotenv import load_dotenv\n",
    "from langchain_groq import ChatGroq\n",
    "from groq import Groq\n",
    "import os\n",
    "from typing import TypedDict,Annotated,Optional,Literal\n",
    "from pydantic import BaseModel, EmailStr, Field\n",
    "\n",
    "\n",
    "load_dotenv()"
   ]
  },
  {
   "cell_type": "code",
   "execution_count": 2,
   "id": "1c611702",
   "metadata": {},
   "outputs": [],
   "source": [
    "model = ChatGroq(\n",
    "        groq_api_key=os.getenv(\"GROQ_API_KEY\"),\n",
    "        model_name=\"Gemma2-9b-It\",\n",
    "        temperature=0.5 ## this is creative parameter\n",
    "    )"
   ]
  },
  {
   "cell_type": "markdown",
   "id": "41fd2fa6",
   "metadata": {},
   "source": [
    "## Typed Dict"
   ]
  },
  {
   "cell_type": "code",
   "execution_count": 13,
   "id": "ef4b2998",
   "metadata": {},
   "outputs": [],
   "source": [
    "## schema\n",
    "\n",
    "\n",
    "class Review(TypedDict):\n",
    "    \n",
    "    summary : Annotated[str,\"A brief summary of Review\"] ## type and prompt\n",
    "    sentiment : Annotated[str,\"A brief summary of Review eigther negative , positive or neutral\"]\n",
    "\n",
    "\n",
    "structered_model = model.with_structured_output(Review) ## we are invoking the above class to get struteced output"
   ]
  },
  {
   "cell_type": "code",
   "execution_count": 14,
   "id": "4d9004aa",
   "metadata": {},
   "outputs": [
    {
     "name": "stdout",
     "output_type": "stream",
     "text": [
      "{'sentiment': 'negative', 'summary': 'Hardware is good but the software fooled us. There are too many installed apps which i cant remove'}\n"
     ]
    }
   ],
   "source": [
    "result = structered_model.invoke(\n",
    "    '''Hardware is good but the software fooled us. There are too many installed apps which i cant remove\n",
    "\n",
    "    '''\n",
    "\n",
    ")\n",
    "print(result) ## you can see that output is dictnory format"
   ]
  },
  {
   "cell_type": "code",
   "execution_count": 15,
   "id": "1ea135f6",
   "metadata": {},
   "outputs": [],
   "source": [
    "## schema\n",
    "\n",
    "\n",
    "class Review(TypedDict):\n",
    "\n",
    "    key_themes : Annotated[list[str],\"Write down all the key points discussed in the review\"]\n",
    "    summary : Annotated[str,\"A brief summary of Review\"] ## type and prompt\n",
    "    sentiment : Annotated[str,\"A brief summary of Review eigther negative , positive or neutral\"]\n",
    "\n",
    "\n",
    "structered_model = model.with_structured_output(Review) ## we are invoking the above class to get struteced output"
   ]
  },
  {
   "cell_type": "code",
   "execution_count": 16,
   "id": "9424a896",
   "metadata": {},
   "outputs": [],
   "source": [
    "review = '''\n",
    "The Samsung Galaxy S24 Ultra is a premium flagship with cutting-edge hardware and AI-enhanced features. With its 200MP camera and Snapdragon 8 Gen 3 chip, it’s aimed at power users and mobile photographers.\n",
    "\n",
    "Pros\n",
    "\n",
    "Stunning 6.8″ AMOLED display with 120 Hz refresh rate\n",
    "\n",
    "200MP camera captures extraordinary detail\n",
    "\n",
    "Long battery life with 5,000 mAh capacity\n",
    "\n",
    "Galaxy AI tools for image editing, live translation, and more\n",
    "\n",
    "7 years of software updates\n",
    "\n",
    "Cons\n",
    "\n",
    "Expensive compared to rivals\n",
    "\n",
    "Bulky and heavy to hold\n",
    "\n",
    "AI features sometimes feel undercooked\n",
    "\n",
    "Slow 45W charging for the price\n",
    "\n",
    "\n",
    "\n",
    "'''"
   ]
  },
  {
   "cell_type": "code",
   "execution_count": 18,
   "id": "48cbf15f",
   "metadata": {},
   "outputs": [
    {
     "name": "stdout",
     "output_type": "stream",
     "text": [
      "{'key_themes': ['camera', 'display', 'battery life', 'software updates', 'price'], 'sentiment': 'neutral', 'summary': 'A review of the Samsung Galaxy S24 Ultra highlighting its pros and cons.'}\n"
     ]
    }
   ],
   "source": [
    "result = structered_model.invoke(\n",
    "    review\n",
    "\n",
    ")\n",
    "print(result) ## you can see that output is dictnory format"
   ]
  },
  {
   "cell_type": "markdown",
   "id": "3e6a5e80",
   "metadata": {},
   "source": [
    "## Pydantic"
   ]
  },
  {
   "cell_type": "code",
   "execution_count": 30,
   "id": "e1b78d3b",
   "metadata": {},
   "outputs": [],
   "source": [
    "class Student(BaseModel): ## we inherit the base model\n",
    "\n",
    "    name: str \n",
    "    age: Optional[int] = None  ## its optional if age is not given it returns none\n",
    "    email: EmailStr  ## inbuilt it validates the email\n",
    "    cgpa: float = Field(gt=0, lt=10, default=5, description='A decimal value representing the cgpa of the student')\n",
    "    ## we add constrains using field function like here gpa much be between 0and 10\n",
    "\n"
   ]
  },
  {
   "cell_type": "code",
   "execution_count": null,
   "id": "228f68a7",
   "metadata": {},
   "outputs": [],
   "source": [
    "new_student = {'name':'chinu','age':'32', 'email':'abc'} ## throws error as its not in email format\n",
    "\n",
    "student = Student(**new_student)"
   ]
  },
  {
   "cell_type": "code",
   "execution_count": 31,
   "id": "262cd6da",
   "metadata": {},
   "outputs": [
    {
     "data": {
      "text/plain": [
       "Student(name='chinu', age=32, email='abc@gmail.com', cgpa=5)"
      ]
     },
     "execution_count": 31,
     "metadata": {},
     "output_type": "execute_result"
    }
   ],
   "source": [
    "new_student = {'name':'chinu','age':'32', 'email':'abc@gmail.com'}\n",
    "\n",
    "student = Student(**new_student)\n",
    "student"
   ]
  },
  {
   "cell_type": "code",
   "execution_count": 37,
   "id": "c16d5c96",
   "metadata": {},
   "outputs": [
    {
     "data": {
      "text/plain": [
       "Student(name='chinu', age=None, email='abc@gmail.com', cgpa=5)"
      ]
     },
     "execution_count": 37,
     "metadata": {},
     "output_type": "execute_result"
    }
   ],
   "source": [
    "new_student = {'name':'chinu', 'email':'abc@gmail.com'}\n",
    "\n",
    "student = Student(**new_student)\n",
    "student"
   ]
  },
  {
   "cell_type": "code",
   "execution_count": 33,
   "id": "82ae2b4c",
   "metadata": {},
   "outputs": [
    {
     "name": "stdout",
     "output_type": "stream",
     "text": [
      "{'name': 'chinu', 'age': 32, 'email': 'abc@gmail.com', 'cgpa': 9.0}\n"
     ]
    }
   ],
   "source": [
    "new_student = {'name':'chinu','age':32, 'email':'abc@gmail.com',\"cgpa\":9}\n",
    "\n",
    "student = Student(**new_student)\n",
    "\n",
    "student_dict = dict(student)\n",
    "\n",
    "print(student_dict)"
   ]
  },
  {
   "cell_type": "code",
   "execution_count": 39,
   "id": "2d029abd",
   "metadata": {},
   "outputs": [
    {
     "name": "stdout",
     "output_type": "stream",
     "text": [
      "key_themes=['Performance', 'Camera', 'Battery Life', 'S-Pen', 'Software', 'Price'] summary='The Samsung Galaxy S24 Ultra is a powerful phone with a stunning camera and long battery life, but its size and price may be drawbacks for some users.' sentiment='pos' pros=['Insanely powerful processor (great for gaming and productivity)', 'Stunning 200MP camera with incredible zoom capabilities', 'Long battery life with fast charging', 'S-Pen support is unique and useful'] cons=['Weight and size make it uncomfortable for one-handed use', 'Samsung’s One UI still comes with bloatware', 'The $1,300 price tag is a hard pill to swallow'] name='Nitish Singh'\n"
     ]
    }
   ],
   "source": [
    "class Review(BaseModel):\n",
    "\n",
    "    key_themes: list[str] = Field(description=\"Write down all the key themes discussed in the review in a list\")\n",
    "    summary: str = Field(description=\"A brief summary of the review\")\n",
    "    sentiment: Literal[\"pos\", \"neg\"] = Field(description=\"Return sentiment of the review either negative, positive or neutral\")\n",
    "    pros: Optional[list[str]] = Field(default=None, description=\"Write down all the pros inside a list\")\n",
    "    cons: Optional[list[str]] = Field(default=None, description=\"Write down all the cons inside a list\")\n",
    "    name: Optional[str] = Field(default=None, description=\"Write the name of the reviewer\")\n",
    "    \n",
    "\n",
    "structured_model = model.with_structured_output(Review)\n",
    "\n",
    "result = structured_model.invoke(\"\"\"I recently upgraded to the Samsung Galaxy S24 Ultra, and I must say, it’s an absolute powerhouse! The Snapdragon 8 Gen 3 processor makes everything lightning fast—whether I’m gaming, multitasking, or editing photos. The 5000mAh battery easily lasts a full day even with heavy use, and the 45W fast charging is a lifesaver.\n",
    "\n",
    "The S-Pen integration is a great touch for note-taking and quick sketches, though I don't use it often. What really blew me away is the 200MP camera—the night mode is stunning, capturing crisp, vibrant images even in low light. Zooming up to 100x actually works well for distant objects, but anything beyond 30x loses quality.\n",
    "\n",
    "However, the weight and size make it a bit uncomfortable for one-handed use. Also, Samsung’s One UI still comes with bloatware—why do I need five different Samsung apps for things Google already provides? The $1,300 price tag is also a hard pill to swallow.\n",
    "\n",
    "Pros:\n",
    "Insanely powerful processor (great for gaming and productivity)\n",
    "Stunning 200MP camera with incredible zoom capabilities\n",
    "Long battery life with fast charging\n",
    "S-Pen support is unique and useful\n",
    "                                 \n",
    "Review by Nitish Singh\n",
    "\"\"\")\n",
    "\n",
    "print(result)\n",
    "# result"
   ]
  },
  {
   "cell_type": "markdown",
   "id": "1f1d8314",
   "metadata": {},
   "source": [
    "## JSON"
   ]
  },
  {
   "cell_type": "code",
   "execution_count": 41,
   "id": "dedf61bb",
   "metadata": {},
   "outputs": [
    {
     "name": "stdout",
     "output_type": "stream",
     "text": [
      "{'cons': ['Weight and size make it uncomfortable for one-handed use', \"Bloatware from Samsung's One UI\", 'High price tag of $1,300'], 'key_themes': ['Performance', 'Camera', 'Battery Life', 'S-Pen', 'Price'], 'name': 'Nitish Singh', 'pros': ['Insanely powerful processor (great for gaming and productivity)', 'Stunning 200MP camera with incredible zoom capabilities', 'Long battery life with fast charging', 'S-Pen support is unique and useful'], 'sentiment': 'pos', 'summary': 'The Samsung Galaxy S24 Ultra is a powerful phone with a great camera and long battery life. However, it is heavy and expensive.'}\n"
     ]
    }
   ],
   "source": [
    "json_schema = {\n",
    "  \"title\": \"Review\",\n",
    "  \"type\": \"object\",\n",
    "  \"properties\": {\n",
    "    \"key_themes\": {\n",
    "      \"type\": \"array\",\n",
    "      \"items\": {\n",
    "        \"type\": \"string\"\n",
    "      },\n",
    "      \"description\": \"Write down all the key themes discussed in the review in a list\"\n",
    "    },\n",
    "    \"summary\": {\n",
    "      \"type\": \"string\",\n",
    "      \"description\": \"A brief summary of the review\"\n",
    "    },\n",
    "    \"sentiment\": {\n",
    "      \"type\": \"string\",\n",
    "      \"enum\": [\n",
    "        \"pos\",\n",
    "        \"neg\"\n",
    "      ],\n",
    "      \"description\": \"Return sentiment of the review either negative, positive or neutral\"\n",
    "    },\n",
    "    \"pros\": {\n",
    "      \"type\": [\n",
    "        \"array\",\n",
    "        \"null\"\n",
    "      ],\n",
    "      \"items\": {\n",
    "        \"type\": \"string\"\n",
    "      },\n",
    "      \"description\": \"Write down all the pros inside a list\"\n",
    "    },\n",
    "    \"cons\": {\n",
    "      \"type\": [\n",
    "        \"array\",\n",
    "        \"null\"\n",
    "      ],\n",
    "      \"items\": {\n",
    "        \"type\": \"string\"\n",
    "      },\n",
    "      \"description\": \"Write down all the cons inside a list\"\n",
    "    },\n",
    "    \"name\": {\n",
    "      \"type\": [\n",
    "        \"string\",\n",
    "        \"null\"\n",
    "      ],\n",
    "      \"description\": \"Write the name of the reviewer\"\n",
    "    }\n",
    "  },\n",
    "  \"required\": [\n",
    "    \"key_themes\",\n",
    "    \"summary\",\n",
    "    \"sentiment\"\n",
    "  ]\n",
    "}\n",
    "\n",
    "structured_model = model.with_structured_output(json_schema)\n",
    "\n",
    "result = structured_model.invoke(\"\"\"I recently upgraded to the Samsung Galaxy S24 Ultra, and I must say, it’s an absolute powerhouse! The Snapdragon 8 Gen 3 processor makes everything lightning fast—whether I’m gaming, multitasking, or editing photos. The 5000mAh battery easily lasts a full day even with heavy use, and the 45W fast charging is a lifesaver.\n",
    "\n",
    "The S-Pen integration is a great touch for note-taking and quick sketches, though I don't use it often. What really blew me away is the 200MP camera—the night mode is stunning, capturing crisp, vibrant images even in low light. Zooming up to 100x actually works well for distant objects, but anything beyond 30x loses quality.\n",
    "\n",
    "However, the weight and size make it a bit uncomfortable for one-handed use. Also, Samsung’s One UI still comes with bloatware—why do I need five different Samsung apps for things Google already provides? The $1,300 price tag is also a hard pill to swallow.\n",
    "\n",
    "Pros:\n",
    "Insanely powerful processor (great for gaming and productivity)\n",
    "Stunning 200MP camera with incredible zoom capabilities\n",
    "Long battery life with fast charging\n",
    "S-Pen support is unique and useful\n",
    "                                 \n",
    "Review by Nitish Singh\n",
    "\"\"\")\n",
    "\n",
    "print(result)"
   ]
  }
 ],
 "metadata": {
  "kernelspec": {
   "display_name": "Python 3",
   "language": "python",
   "name": "python3"
  },
  "language_info": {
   "codemirror_mode": {
    "name": "ipython",
    "version": 3
   },
   "file_extension": ".py",
   "mimetype": "text/x-python",
   "name": "python",
   "nbconvert_exporter": "python",
   "pygments_lexer": "ipython3",
   "version": "3.10.0"
  }
 },
 "nbformat": 4,
 "nbformat_minor": 5
}
