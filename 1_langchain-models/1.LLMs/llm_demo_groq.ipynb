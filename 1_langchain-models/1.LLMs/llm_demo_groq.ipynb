{
 "cells": [
  {
   "cell_type": "code",
   "execution_count": 4,
   "id": "4368970c",
   "metadata": {},
   "outputs": [
    {
     "data": {
      "text/plain": [
       "True"
      ]
     },
     "execution_count": 4,
     "metadata": {},
     "output_type": "execute_result"
    }
   ],
   "source": [
    "from langchain_groq import ChatGroq\n",
    "from dotenv import load_dotenv\n",
    "from groq import Groq\n",
    "import os\n",
    "load_dotenv(override=True)"
   ]
  },
  {
   "cell_type": "code",
   "execution_count": 5,
   "id": "0d0baf81",
   "metadata": {},
   "outputs": [],
   "source": [
    "GROQ_API_KEY = os.getenv(\"GROQ_API_KEY\")"
   ]
  },
  {
   "cell_type": "code",
   "execution_count": 6,
   "id": "e90f25f5",
   "metadata": {},
   "outputs": [
    {
     "name": "stdout",
     "output_type": "stream",
     "text": [
      "The capital of India is **New Delhi**. \n",
      "\n"
     ]
    }
   ],
   "source": [
    "# Initialize Groq client with your GROQ_API_KEY\n",
    "client = Groq(api_key=GROQ_API_KEY)\n",
    "\n",
    "# Use one of GROQ's supported models\n",
    "response = client.chat.completions.create(\n",
    "    model=\"Gemma2-9b-It\",  # or \"mixtral-8x7b-32768\"\n",
    "    messages=[\n",
    "        {\"role\": \"user\", \"content\": \"What is the capital of India\"}\n",
    "    ]\n",
    ")\n",
    "\n",
    "# Print the model's response\n",
    "print(response.choices[0].message.content)"
   ]
  }
 ],
 "metadata": {
  "kernelspec": {
   "display_name": "base",
   "language": "python",
   "name": "python3"
  },
  "language_info": {
   "codemirror_mode": {
    "name": "ipython",
    "version": 3
   },
   "file_extension": ".py",
   "mimetype": "text/x-python",
   "name": "python",
   "nbconvert_exporter": "python",
   "pygments_lexer": "ipython3",
   "version": "3.12.7"
  }
 },
 "nbformat": 4,
 "nbformat_minor": 5
}
