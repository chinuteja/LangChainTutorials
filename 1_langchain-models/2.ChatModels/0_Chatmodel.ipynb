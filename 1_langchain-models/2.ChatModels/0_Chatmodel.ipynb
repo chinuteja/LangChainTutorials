{
 "cells": [
  {
   "cell_type": "markdown",
   "id": "b340a0ec",
   "metadata": {},
   "source": [
    "Importing Modules"
   ]
  },
  {
   "cell_type": "code",
   "execution_count": 5,
   "id": "66805281",
   "metadata": {},
   "outputs": [
    {
     "data": {
      "text/plain": [
       "True"
      ]
     },
     "execution_count": 5,
     "metadata": {},
     "output_type": "execute_result"
    }
   ],
   "source": [
    "from langchain_groq import ChatGroq\n",
    "from dotenv import load_dotenv\n",
    "from groq import Groq\n",
    "import os\n",
    "from langchain_huggingface import ChatHuggingFace, HuggingFaceEndpoint\n",
    "import warnings\n",
    "warnings.filterwarnings(\"ignore\")\n",
    "\n",
    "load_dotenv(override=True)"
   ]
  },
  {
   "cell_type": "code",
   "execution_count": null,
   "id": "f96c8113",
   "metadata": {},
   "outputs": [
    {
     "name": "stdout",
     "output_type": "stream",
     "text": [
      "LLM object after initialization: \u001b[1mHuggingFaceEndpoint\u001b[0m\n",
      "Params: {'endpoint_url': None, 'task': 'text-generation', 'provider': None, 'model_kwargs': {}}\n",
      "An error occurred: 'NoneType' object is not iterable\n"
     ]
    }
   ],
   "source": []
  },
  {
   "cell_type": "code",
   "execution_count": 12,
   "id": "bd182946",
   "metadata": {},
   "outputs": [],
   "source": [
    "llm = HuggingFaceEndpoint(\n",
    "    repo_id=\"meta-llama/Llama-3.1-8B-Instruct\",\n",
    "    task=\"text-generation\"\n",
    ")\n",
    "\n",
    "model = ChatHuggingFace(llm=llm)"
   ]
  },
  {
   "cell_type": "code",
   "execution_count": 13,
   "id": "dbc65a55",
   "metadata": {},
   "outputs": [
    {
     "name": "stdout",
     "output_type": "stream",
     "text": [
      "LLM object: \u001b[1mHuggingFaceEndpoint\u001b[0m\n",
      "Params: {'endpoint_url': None, 'task': 'text-generation', 'provider': None, 'model_kwargs': {}}\n"
     ]
    }
   ],
   "source": [
    "print(f\"LLM object: {llm}\") # Check what this prints\n"
   ]
  },
  {
   "cell_type": "code",
   "execution_count": 14,
   "id": "0d17bc86",
   "metadata": {},
   "outputs": [
    {
     "data": {
      "text/plain": [
       "AIMessage(content='The capital of India is New Delhi.', additional_kwargs={}, response_metadata={'token_usage': {'completion_tokens': 9, 'prompt_tokens': 41, 'total_tokens': 50}, 'model_name': 'meta-llama/Llama-3.1-8B-Instruct', 'system_fingerprint': '', 'finish_reason': 'stop', 'logprobs': None}, id='run--49c78716-3238-45c3-8af5-0244b02ae050-0', usage_metadata={'input_tokens': 41, 'output_tokens': 9, 'total_tokens': 50})"
      ]
     },
     "execution_count": 14,
     "metadata": {},
     "output_type": "execute_result"
    }
   ],
   "source": [
    "\n",
    "model.invoke(\"What is the capital of India\")"
   ]
  },
  {
   "cell_type": "code",
   "execution_count": null,
   "id": "018afc1f",
   "metadata": {},
   "outputs": [
    {
     "name": "stdout",
     "output_type": "stream",
     "text": [
      "The capital of India is **New Delhi**. \n",
      "\n"
     ]
    }
   ],
   "source": [
    "llm = ChatGroq(\n",
    "        groq_api_key=os.getenv(\"GROQ_API_KEY\"),\n",
    "        model_name=\"Gemma2-9b-It\",\n",
    "        temperature=0.5 ## this is creative parameter\n",
    "    )\n",
    "result = llm.invoke(\"What is the capital of India\")\n",
    "print(result.content)"
   ]
  },
  {
   "cell_type": "code",
   "execution_count": 24,
   "id": "0dd6cd2e",
   "metadata": {},
   "outputs": [
    {
     "name": "stdout",
     "output_type": "stream",
     "text": [
      "Fragrant rice, a saffron hue,\n",
      "Meat and spices, a savory stew.\n",
      "Layers of flavor, a culinary art,\n",
      "Biryani's aroma, steals every heart.\n",
      "A feast for senses, a royal delight. \n",
      "\n",
      "\n",
      "\n",
      "--------------------------------\n",
      "Aromatic rice, saffron's kiss,\n",
      "Meats tender, spices bliss.\n",
      "Layers of flavor, rich and deep,\n",
      "A feast for senses, secrets to keep.\n",
      "Oh, biryani, a culinary masterpiece. \n",
      "\n",
      "\n",
      "\n",
      "--------------------------------\n",
      "Spiced rice, a symphony of scent,\n",
      "Layers of meat, so richly set.\n",
      "Saffron gleam, a flavorful sight,\n",
      "Biryani's dance, a pure delight,\n",
      "On eager tongues, pure bliss takes flight. \n",
      "\n",
      "\n",
      "\n",
      "--------------------------------\n"
     ]
    }
   ],
   "source": [
    "temperature_parameter_list  = [0,0.5,1.5]\n",
    "for temperature in temperature_parameter_list:\n",
    "    llm = ChatGroq(\n",
    "            groq_api_key=os.getenv(\"GROQ_API_KEY\"),\n",
    "            model_name=\"Gemma2-9b-It\",\n",
    "            temperature=temperature, ## this is creative parameter,\n",
    "            max_completion_tokens=100\n",
    "        )\n",
    "    result = llm.invoke(\"Write a 5 line poem on Biryani\")\n",
    "    print(result.content)\n",
    "    print(\"--------------------------------\")"
   ]
  },
  {
   "cell_type": "code",
   "execution_count": null,
   "id": "dc832938",
   "metadata": {},
   "outputs": [],
   "source": []
  }
 ],
 "metadata": {
  "kernelspec": {
   "display_name": "base",
   "language": "python",
   "name": "python3"
  },
  "language_info": {
   "codemirror_mode": {
    "name": "ipython",
    "version": 3
   },
   "file_extension": ".py",
   "mimetype": "text/x-python",
   "name": "python",
   "nbconvert_exporter": "python",
   "pygments_lexer": "ipython3",
   "version": "3.12.7"
  }
 },
 "nbformat": 4,
 "nbformat_minor": 5
}
