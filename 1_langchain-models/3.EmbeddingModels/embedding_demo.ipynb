{
 "cells": [
  {
   "cell_type": "code",
   "execution_count": 4,
   "id": "38b6b9c0",
   "metadata": {},
   "outputs": [
    {
     "data": {
      "text/plain": [
       "True"
      ]
     },
     "execution_count": 4,
     "metadata": {},
     "output_type": "execute_result"
    }
   ],
   "source": [
    "from langchain_openai import OpenAIEmbeddings\n",
    "from dotenv import load_dotenv\n",
    "#from sklearn.metrics.pairwise import cosine_similarity\n",
    "import numpy as np\n",
    "from langchain.embeddings import HuggingFaceEmbeddings\n",
    "import warnings\n",
    "warnings.filterwarnings(\"ignore\")\n",
    "load_dotenv()"
   ]
  },
  {
   "cell_type": "code",
   "execution_count": 1,
   "id": "d9ae4fd0",
   "metadata": {},
   "outputs": [],
   "source": [
    "from sklearn.metrics.pairwise import cosine_similarity\n"
   ]
  },
  {
   "cell_type": "code",
   "execution_count": 3,
   "id": "f22b5255",
   "metadata": {},
   "outputs": [
    {
     "name": "stderr",
     "output_type": "stream",
     "text": [
      "C:\\Users\\Sai12\\AppData\\Local\\Temp\\ipykernel_17020\\3401734470.py:1: LangChainDeprecationWarning: The class `HuggingFaceEmbeddings` was deprecated in LangChain 0.2.2 and will be removed in 1.0. An updated version of the class exists in the :class:`~langchain-huggingface package and should be used instead. To use it run `pip install -U :class:`~langchain-huggingface` and import as `from :class:`~langchain_huggingface import HuggingFaceEmbeddings``.\n",
      "  embeddings = HuggingFaceEmbeddings(model_name=\"all-MiniLM-L6-v2\")\n"
     ]
    }
   ],
   "source": [
    "embeddings = HuggingFaceEmbeddings(model_name=\"all-MiniLM-L6-v2\")"
   ]
  },
  {
   "cell_type": "code",
   "execution_count": 5,
   "id": "1f8634dc",
   "metadata": {},
   "outputs": [],
   "source": [
    "\n",
    "documents = [\n",
    "    \"Virat Kohli is an Indian cricketer known for his aggressive batting and leadership.\",\n",
    "    \"MS Dhoni is a former Indian captain famous for his calm demeanor and finishing skills.\",\n",
    "    \"Sachin Tendulkar, also known as the 'God of Cricket', holds many batting records.\",\n",
    "    \"Rohit Sharma is known for his elegant batting and record-breaking double centuries.\",\n",
    "    \"Jasprit Bumrah is an Indian fast bowler known for his unorthodox action and yorkers.\"\n",
    "]"
   ]
  },
  {
   "cell_type": "code",
   "execution_count": 6,
   "id": "1abe23ad",
   "metadata": {},
   "outputs": [],
   "source": [
    "query = 'tell me about bumrah'"
   ]
  },
  {
   "cell_type": "code",
   "execution_count": 7,
   "id": "e355f1f2",
   "metadata": {},
   "outputs": [
    {
     "name": "stdout",
     "output_type": "stream",
     "text": [
      "tell me about bumrah\n",
      "Jasprit Bumrah is an Indian fast bowler known for his unorthodox action and yorkers.\n",
      "similarity score is: 0.6183837984836054\n"
     ]
    }
   ],
   "source": [
    "doc_embeddings = embeddings.embed_documents(documents)\n",
    "query_embedding = embeddings.embed_query(query)\n",
    "\n",
    "scores = cosine_similarity([query_embedding], doc_embeddings)[0]\n",
    "\n",
    "index, score = sorted(list(enumerate(scores)),key=lambda x:x[1])[-1]\n",
    "\n",
    "print(query)\n",
    "print(documents[index])\n",
    "print(\"similarity score is:\", score)\n"
   ]
  },
  {
   "cell_type": "code",
   "execution_count": 11,
   "id": "b74de8d1",
   "metadata": {},
   "outputs": [
    {
     "data": {
      "text/plain": [
       "{'Virat Kohli is an Indian cricketer known for his aggressive batting and leadership.': 0.057742313251232386,\n",
       " 'MS Dhoni is a former Indian captain famous for his calm demeanor and finishing skills.': 0.1841838645676086,\n",
       " \"Sachin Tendulkar, also known as the 'God of Cricket', holds many batting records.\": 0.17049841338728694,\n",
       " 'Rohit Sharma is known for his elegant batting and record-breaking double centuries.': 0.14744040120014595,\n",
       " 'Jasprit Bumrah is an Indian fast bowler known for his unorthodox action and yorkers.': 0.6183837984836054}"
      ]
     },
     "execution_count": 11,
     "metadata": {},
     "output_type": "execute_result"
    }
   ],
   "source": [
    "score = cosine_similarity([query_embedding], doc_embeddings)\n",
    "score\n",
    "dict(zip(documents, score[0]))"
   ]
  },
  {
   "cell_type": "markdown",
   "id": "d10f77af",
   "metadata": {},
   "source": []
  }
 ],
 "metadata": {
  "kernelspec": {
   "display_name": "base",
   "language": "python",
   "name": "python3"
  },
  "language_info": {
   "codemirror_mode": {
    "name": "ipython",
    "version": 3
   },
   "file_extension": ".py",
   "mimetype": "text/x-python",
   "name": "python",
   "nbconvert_exporter": "python",
   "pygments_lexer": "ipython3",
   "version": "3.12.7"
  }
 },
 "nbformat": 4,
 "nbformat_minor": 5
}
